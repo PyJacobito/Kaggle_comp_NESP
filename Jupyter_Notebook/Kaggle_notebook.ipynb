{
 "cells": [
  {
   "cell_type": "markdown",
   "id": "a3a5e2c9-19bd-4f06-8213-e82809fced8b",
   "metadata": {},
   "source": [
    "# **1.Data loading**"
   ]
  },
  {
   "cell_type": "markdown",
   "id": "339272ac-58aa-46d7-8e78-9f793576ab6d",
   "metadata": {},
   "source": [
    "## Imports"
   ]
  },
  {
   "cell_type": "code",
   "execution_count": 1,
   "id": "1a4c14b9-3cf5-4b4f-bf48-59f65a701d09",
   "metadata": {},
   "outputs": [],
   "source": [
    "from os import path, sep, pardir, getcwd, listdir\n",
    "from typing import AnyStr, List, Dict, Set, Any\n",
    "\n",
    "from pandas import DataFrame, read_csv, concat"
   ]
  },
  {
   "cell_type": "markdown",
   "id": "f1f20490-c7fc-4b73-a7c0-45bf8c067ca4",
   "metadata": {},
   "source": [
    "## Data loading class"
   ]
  },
  {
   "cell_type": "markdown",
   "id": "2c6ced97-4a12-489e-a38b-dcd5002debee",
   "metadata": {},
   "source": [
    "*(Completetly unnecessary and a bite chaotic)*"
   ]
  },
  {
   "cell_type": "code",
   "execution_count": 2,
   "id": "d495eb0b-ed42-4aee-890e-fe95b11c2124",
   "metadata": {},
   "outputs": [],
   "source": [
    "class LoadedData:\n",
    "    \"\"\"Class storing the train and test data\"\"\"\n",
    "\n",
    "    @staticmethod\n",
    "    def _get_loading_paths(searched_tags: Set[AnyStr] = ('train', 'test', 'train_updates')) -> Dict[AnyStr, AnyStr]:\n",
    "        \"\"\"Function returns the loading paths for the relevant data\"\"\"\n",
    "\n",
    "\n",
    "        def _join_list_to_str(*args: List[Any]) -> str:\n",
    "            \"\"\"Function joins the first list arguments\"\"\"\n",
    "            str_var = \"\"\n",
    "\n",
    "            for arg in args:\n",
    "                if arg != args[-1]:\n",
    "                    str_var += arg[0] + '\\\\'\n",
    "\n",
    "                else:\n",
    "                    str_var += arg[0]\n",
    "\n",
    "            return str_var\n",
    "\n",
    "\n",
    "        def _check_list(list_var: List[AnyStr]) -> bool:\n",
    "            \"\"\"Function checks the given list length\"\"\"\n",
    "            return True if len(list_var) == 1 else False\n",
    "\n",
    "\n",
    "        def _get_working_directory(str_var: AnyStr = \"\") -> AnyStr:\n",
    "            \"\"\"Function returns the path to data in the working directory\"\"\"\n",
    "            return str(path.normpath(getcwd() + sep + pardir)) + f'\\\\{str_var}'\n",
    "\n",
    "\n",
    "        def _get_all_subdirectories(path_str: AnyStr = \"\") -> List[AnyStr]:\n",
    "            \"\"\"Function returns all the possible subdirectories\"\"\"\n",
    "            if path_str:\n",
    "                return listdir(path_str)\n",
    "\n",
    "            else:\n",
    "                return listdir(_get_working_directory())\n",
    "\n",
    "        docs_subdir_list = [subdir for subdir in _get_all_subdirectories() if subdir.lower().find('docs') >= 0]\n",
    "\n",
    "        if _check_list(docs_subdir_list):\n",
    "            docs_path = _get_working_directory(_join_list_to_str(docs_subdir_list))\n",
    "            data_subdir_list = [subdir for subdir in _get_all_subdirectories(docs_path)\n",
    "                                if subdir.lower().find('data') >= 0]\n",
    "\n",
    "            if _check_list(data_subdir_list):\n",
    "                data_path = _get_working_directory(_join_list_to_str(docs_subdir_list, data_subdir_list))\n",
    "                tag_dict = {}\n",
    "\n",
    "                for tag in searched_tags:\n",
    "                    tag_subdir_list = [subdir for subdir in _get_all_subdirectories(data_path)\n",
    "                                       if subdir.lower().find(f'{tag}') >= 0]\n",
    "\n",
    "                    if len(tag_subdir_list) > 0:\n",
    "                        tag_path = _get_working_directory(_join_list_to_str(docs_subdir_list,\n",
    "                                                                            data_subdir_list,\n",
    "                                                                            tag_subdir_list))\n",
    "                        tag_dict[f'{tag}_df'] = tag_path\n",
    "\n",
    "                return tag_dict\n",
    "\n",
    "            else:\n",
    "                raise FileExistsError('No or to much of data directory in the docs')\n",
    "\n",
    "        else:\n",
    "            raise FileExistsError('No or to much of docs directory in the current working directory')\n",
    "\n",
    "    @staticmethod\n",
    "    def _get_corrected_train_data(train_df: DataFrame, update_df: DataFrame) -> DataFrame:\n",
    "        \"\"\"Function returns the corrected train data with the last update file\"\"\"\n",
    "        update_df.data_source = train_df.loc[update_df.index, 'data_source']\n",
    "        update_indexes = update_df[update_df.protein_sequence.isna()].index\n",
    "        update_df.loc[update_indexes, 'protein_sequence'] = train_df.loc[update_indexes, 'protein_sequence']\n",
    "        train_df.drop(update_df.index, inplace=True)\n",
    "        return concat([train_df, update_df])\n",
    "\n",
    "\n",
    "    def __init__(self, initialzation: bool = True) -> None:\n",
    "        if initialzation is True:\n",
    "            self.loading_paths_dict = self._get_loading_paths()\n",
    "            self.test_df = read_csv(self.loading_paths_dict['test_df'], index_col=\"seq_id\")\n",
    "            self.train_df = self._get_corrected_train_data(\n",
    "                read_csv(self.loading_paths_dict['train_df'], index_col=\"seq_id\"),\n",
    "                read_csv(self.loading_paths_dict['train_updates_df'], index_col=\"seq_id\")\n",
    "            )"
   ]
  },
  {
   "cell_type": "markdown",
   "id": "e3f13d3d-c373-4885-9cce-ea81d8d3e8bc",
   "metadata": {},
   "source": [
    "## Class calling"
   ]
  },
  {
   "cell_type": "code",
   "execution_count": 3,
   "id": "b53a08ec-f7fa-40e7-a1d3-bf7e3320779a",
   "metadata": {},
   "outputs": [],
   "source": [
    "Loaded_data = LoadedData()"
   ]
  },
  {
   "cell_type": "markdown",
   "id": "d876bd19-65ee-490d-b6fc-57afb94b5f0c",
   "metadata": {},
   "source": [
    "## Verification of loading"
   ]
  },
  {
   "cell_type": "markdown",
   "id": "4d84d9f2-9db1-4cb4-bf52-95cb863a78fb",
   "metadata": {},
   "source": [
    "### Train dataframe"
   ]
  },
  {
   "cell_type": "code",
   "execution_count": 4,
   "id": "57e1017a-ed6e-4c1d-93a1-fef5accad6f5",
   "metadata": {},
   "outputs": [
    {
     "data": {
      "text/html": [
       "<div>\n",
       "<style scoped>\n",
       "    .dataframe tbody tr th:only-of-type {\n",
       "        vertical-align: middle;\n",
       "    }\n",
       "\n",
       "    .dataframe tbody tr th {\n",
       "        vertical-align: top;\n",
       "    }\n",
       "\n",
       "    .dataframe thead th {\n",
       "        text-align: right;\n",
       "    }\n",
       "</style>\n",
       "<table border=\"1\" class=\"dataframe\">\n",
       "  <thead>\n",
       "    <tr style=\"text-align: right;\">\n",
       "      <th></th>\n",
       "      <th>protein_sequence</th>\n",
       "      <th>pH</th>\n",
       "      <th>data_source</th>\n",
       "      <th>tm</th>\n",
       "    </tr>\n",
       "    <tr>\n",
       "      <th>seq_id</th>\n",
       "      <th></th>\n",
       "      <th></th>\n",
       "      <th></th>\n",
       "      <th></th>\n",
       "    </tr>\n",
       "  </thead>\n",
       "  <tbody>\n",
       "    <tr>\n",
       "      <th>0</th>\n",
       "      <td>AAAAKAAALALLGEAPEVVDIWLPAGWRQPFRVFRLERKGDGVLVG...</td>\n",
       "      <td>7.0</td>\n",
       "      <td>doi.org/10.1038/s41592-020-0801-4</td>\n",
       "      <td>75.7</td>\n",
       "    </tr>\n",
       "    <tr>\n",
       "      <th>1</th>\n",
       "      <td>AAADGEPLHNEEERAGAGQVGRSLPQESEEQRTGSRPRRRRDLGSR...</td>\n",
       "      <td>7.0</td>\n",
       "      <td>doi.org/10.1038/s41592-020-0801-4</td>\n",
       "      <td>50.5</td>\n",
       "    </tr>\n",
       "    <tr>\n",
       "      <th>2</th>\n",
       "      <td>AAAFSTPRATSYRILSSAGSGSTRADAPQVRRLHTTRDLLAKDYYA...</td>\n",
       "      <td>7.0</td>\n",
       "      <td>doi.org/10.1038/s41592-020-0801-4</td>\n",
       "      <td>40.5</td>\n",
       "    </tr>\n",
       "    <tr>\n",
       "      <th>3</th>\n",
       "      <td>AAASGLRTAIPAQPLRHLLQPAPRPCLRPFGLLSVRAGSARRSGLL...</td>\n",
       "      <td>7.0</td>\n",
       "      <td>doi.org/10.1038/s41592-020-0801-4</td>\n",
       "      <td>47.2</td>\n",
       "    </tr>\n",
       "    <tr>\n",
       "      <th>4</th>\n",
       "      <td>AAATKSGPRRQSQGASVRTFTPFYFLVEPVDTLSVRGSSVILNCSA...</td>\n",
       "      <td>7.0</td>\n",
       "      <td>doi.org/10.1038/s41592-020-0801-4</td>\n",
       "      <td>49.5</td>\n",
       "    </tr>\n",
       "  </tbody>\n",
       "</table>\n",
       "</div>"
      ],
      "text/plain": [
       "                                         protein_sequence   pH  \\\n",
       "seq_id                                                           \n",
       "0       AAAAKAAALALLGEAPEVVDIWLPAGWRQPFRVFRLERKGDGVLVG...  7.0   \n",
       "1       AAADGEPLHNEEERAGAGQVGRSLPQESEEQRTGSRPRRRRDLGSR...  7.0   \n",
       "2       AAAFSTPRATSYRILSSAGSGSTRADAPQVRRLHTTRDLLAKDYYA...  7.0   \n",
       "3       AAASGLRTAIPAQPLRHLLQPAPRPCLRPFGLLSVRAGSARRSGLL...  7.0   \n",
       "4       AAATKSGPRRQSQGASVRTFTPFYFLVEPVDTLSVRGSSVILNCSA...  7.0   \n",
       "\n",
       "                              data_source    tm  \n",
       "seq_id                                           \n",
       "0       doi.org/10.1038/s41592-020-0801-4  75.7  \n",
       "1       doi.org/10.1038/s41592-020-0801-4  50.5  \n",
       "2       doi.org/10.1038/s41592-020-0801-4  40.5  \n",
       "3       doi.org/10.1038/s41592-020-0801-4  47.2  \n",
       "4       doi.org/10.1038/s41592-020-0801-4  49.5  "
      ]
     },
     "execution_count": 4,
     "metadata": {},
     "output_type": "execute_result"
    }
   ],
   "source": [
    "Loaded_data.train_df.head()"
   ]
  },
  {
   "cell_type": "markdown",
   "id": "b937e1c6-cbf5-4599-9c65-c9a3abc0386b",
   "metadata": {},
   "source": [
    "### Test dataframe"
   ]
  },
  {
   "cell_type": "code",
   "execution_count": 5,
   "id": "140a1ffe-24a7-4047-8135-e85b5ca728d4",
   "metadata": {},
   "outputs": [
    {
     "data": {
      "text/html": [
       "<div>\n",
       "<style scoped>\n",
       "    .dataframe tbody tr th:only-of-type {\n",
       "        vertical-align: middle;\n",
       "    }\n",
       "\n",
       "    .dataframe tbody tr th {\n",
       "        vertical-align: top;\n",
       "    }\n",
       "\n",
       "    .dataframe thead th {\n",
       "        text-align: right;\n",
       "    }\n",
       "</style>\n",
       "<table border=\"1\" class=\"dataframe\">\n",
       "  <thead>\n",
       "    <tr style=\"text-align: right;\">\n",
       "      <th></th>\n",
       "      <th>protein_sequence</th>\n",
       "      <th>pH</th>\n",
       "      <th>data_source</th>\n",
       "    </tr>\n",
       "    <tr>\n",
       "      <th>seq_id</th>\n",
       "      <th></th>\n",
       "      <th></th>\n",
       "      <th></th>\n",
       "    </tr>\n",
       "  </thead>\n",
       "  <tbody>\n",
       "    <tr>\n",
       "      <th>31390</th>\n",
       "      <td>VPVNPEPDATSVENVAEKTGSGDSQSDPIKADLEVKGQSALPFDVD...</td>\n",
       "      <td>8</td>\n",
       "      <td>Novozymes</td>\n",
       "    </tr>\n",
       "    <tr>\n",
       "      <th>31391</th>\n",
       "      <td>VPVNPEPDATSVENVAKKTGSGDSQSDPIKADLEVKGQSALPFDVD...</td>\n",
       "      <td>8</td>\n",
       "      <td>Novozymes</td>\n",
       "    </tr>\n",
       "    <tr>\n",
       "      <th>31392</th>\n",
       "      <td>VPVNPEPDATSVENVAKTGSGDSQSDPIKADLEVKGQSALPFDVDC...</td>\n",
       "      <td>8</td>\n",
       "      <td>Novozymes</td>\n",
       "    </tr>\n",
       "    <tr>\n",
       "      <th>31393</th>\n",
       "      <td>VPVNPEPDATSVENVALCTGSGDSQSDPIKADLEVKGQSALPFDVD...</td>\n",
       "      <td>8</td>\n",
       "      <td>Novozymes</td>\n",
       "    </tr>\n",
       "    <tr>\n",
       "      <th>31394</th>\n",
       "      <td>VPVNPEPDATSVENVALFTGSGDSQSDPIKADLEVKGQSALPFDVD...</td>\n",
       "      <td>8</td>\n",
       "      <td>Novozymes</td>\n",
       "    </tr>\n",
       "  </tbody>\n",
       "</table>\n",
       "</div>"
      ],
      "text/plain": [
       "                                         protein_sequence  pH data_source\n",
       "seq_id                                                                   \n",
       "31390   VPVNPEPDATSVENVAEKTGSGDSQSDPIKADLEVKGQSALPFDVD...   8   Novozymes\n",
       "31391   VPVNPEPDATSVENVAKKTGSGDSQSDPIKADLEVKGQSALPFDVD...   8   Novozymes\n",
       "31392   VPVNPEPDATSVENVAKTGSGDSQSDPIKADLEVKGQSALPFDVDC...   8   Novozymes\n",
       "31393   VPVNPEPDATSVENVALCTGSGDSQSDPIKADLEVKGQSALPFDVD...   8   Novozymes\n",
       "31394   VPVNPEPDATSVENVALFTGSGDSQSDPIKADLEVKGQSALPFDVD...   8   Novozymes"
      ]
     },
     "execution_count": 5,
     "metadata": {},
     "output_type": "execute_result"
    }
   ],
   "source": [
    "Loaded_data.test_df.head()"
   ]
  },
  {
   "cell_type": "markdown",
   "id": "37c903be-c927-4302-b262-64c21b00213f",
   "metadata": {},
   "source": [
    "# **Data cleaning**"
   ]
  },
  {
   "cell_type": "markdown",
   "id": "cc31d744-3e44-46b4-a0a2-979bf49fe935",
   "metadata": {},
   "source": [
    "## Data cleaning class"
   ]
  },
  {
   "cell_type": "code",
   "execution_count": 6,
   "id": "db9bb116-85cd-48b6-9bbd-7c633a5df0be",
   "metadata": {},
   "outputs": [],
   "source": [
    "class CleanedData(LoadedData):\n",
    "    \"\"\"Class for cleaning and storing the cleaned data\"\"\"\n",
    "\n",
    "    @staticmethod\n",
    "    def _remove_empty_rows(df: DataFrame, col_name: str) -> None:\n",
    "        df.drop(df[df[col_name].isna()].index, inplace=True)\n",
    "\n",
    "\n",
    "    def __init__(self, target_column: str = 'tm') -> None:\n",
    "        super(CleanedData, self).__init__()\n",
    "        # Removal of the irrelevant data\n",
    "        for col_name in self.test_df.columns.to_list():\n",
    "            if self.train_df[col_name].isin(self.test_df[col_name].unique()).sum() == 0\\\n",
    "                    and col_name != 'protein_sequence':\n",
    "                if 'cleaned_train_data' not in locals():\n",
    "                    self.cleaned_train_data = self.train_df.drop(col_name, axis=1, )\n",
    "                    self.cleaned_test_data = self.test_df.drop(col_name, axis=1)\n",
    "\n",
    "                else:\n",
    "                    self.cleaned_train_data.drop(col_name, axis=1, inplace=True)\n",
    "                    self.cleaned_test_data.drop(col_name, axis=1, inplace=True)\n",
    "\n",
    "        self._remove_empty_rows(self.cleaned_train_data, target_column)\n",
    "\n",
    "        del self.test_df, self.train_df"
   ]
  },
  {
   "cell_type": "markdown",
   "id": "ffe483ec-ce4d-4fbb-abe9-94210b072fea",
   "metadata": {},
   "source": [
    "## Class initialization"
   ]
  },
  {
   "cell_type": "code",
   "execution_count": 7,
   "id": "fc8c6a13-67d1-4ee7-a468-43b2ddc8a1ec",
   "metadata": {},
   "outputs": [],
   "source": [
    "Cleaned_data = CleanedData()"
   ]
  },
  {
   "cell_type": "markdown",
   "id": "e147a89a-9c96-46a8-9359-818f29fee240",
   "metadata": {},
   "source": [
    "## Verification of loading"
   ]
  },
  {
   "cell_type": "markdown",
   "id": "a44aacd1-b493-463c-8ec7-e66b30de51bb",
   "metadata": {},
   "source": [
    "### Train data"
   ]
  },
  {
   "cell_type": "code",
   "execution_count": 8,
   "id": "bc59166c-05b6-43af-9964-507df2e703f3",
   "metadata": {},
   "outputs": [
    {
     "data": {
      "text/html": [
       "<div>\n",
       "<style scoped>\n",
       "    .dataframe tbody tr th:only-of-type {\n",
       "        vertical-align: middle;\n",
       "    }\n",
       "\n",
       "    .dataframe tbody tr th {\n",
       "        vertical-align: top;\n",
       "    }\n",
       "\n",
       "    .dataframe thead th {\n",
       "        text-align: right;\n",
       "    }\n",
       "</style>\n",
       "<table border=\"1\" class=\"dataframe\">\n",
       "  <thead>\n",
       "    <tr style=\"text-align: right;\">\n",
       "      <th></th>\n",
       "      <th>protein_sequence</th>\n",
       "      <th>pH</th>\n",
       "      <th>tm</th>\n",
       "    </tr>\n",
       "    <tr>\n",
       "      <th>seq_id</th>\n",
       "      <th></th>\n",
       "      <th></th>\n",
       "      <th></th>\n",
       "    </tr>\n",
       "  </thead>\n",
       "  <tbody>\n",
       "    <tr>\n",
       "      <th>0</th>\n",
       "      <td>AAAAKAAALALLGEAPEVVDIWLPAGWRQPFRVFRLERKGDGVLVG...</td>\n",
       "      <td>7.0</td>\n",
       "      <td>75.7</td>\n",
       "    </tr>\n",
       "    <tr>\n",
       "      <th>1</th>\n",
       "      <td>AAADGEPLHNEEERAGAGQVGRSLPQESEEQRTGSRPRRRRDLGSR...</td>\n",
       "      <td>7.0</td>\n",
       "      <td>50.5</td>\n",
       "    </tr>\n",
       "    <tr>\n",
       "      <th>2</th>\n",
       "      <td>AAAFSTPRATSYRILSSAGSGSTRADAPQVRRLHTTRDLLAKDYYA...</td>\n",
       "      <td>7.0</td>\n",
       "      <td>40.5</td>\n",
       "    </tr>\n",
       "    <tr>\n",
       "      <th>3</th>\n",
       "      <td>AAASGLRTAIPAQPLRHLLQPAPRPCLRPFGLLSVRAGSARRSGLL...</td>\n",
       "      <td>7.0</td>\n",
       "      <td>47.2</td>\n",
       "    </tr>\n",
       "    <tr>\n",
       "      <th>4</th>\n",
       "      <td>AAATKSGPRRQSQGASVRTFTPFYFLVEPVDTLSVRGSSVILNCSA...</td>\n",
       "      <td>7.0</td>\n",
       "      <td>49.5</td>\n",
       "    </tr>\n",
       "  </tbody>\n",
       "</table>\n",
       "</div>"
      ],
      "text/plain": [
       "                                         protein_sequence   pH    tm\n",
       "seq_id                                                              \n",
       "0       AAAAKAAALALLGEAPEVVDIWLPAGWRQPFRVFRLERKGDGVLVG...  7.0  75.7\n",
       "1       AAADGEPLHNEEERAGAGQVGRSLPQESEEQRTGSRPRRRRDLGSR...  7.0  50.5\n",
       "2       AAAFSTPRATSYRILSSAGSGSTRADAPQVRRLHTTRDLLAKDYYA...  7.0  40.5\n",
       "3       AAASGLRTAIPAQPLRHLLQPAPRPCLRPFGLLSVRAGSARRSGLL...  7.0  47.2\n",
       "4       AAATKSGPRRQSQGASVRTFTPFYFLVEPVDTLSVRGSSVILNCSA...  7.0  49.5"
      ]
     },
     "execution_count": 8,
     "metadata": {},
     "output_type": "execute_result"
    }
   ],
   "source": [
    "Cleaned_data.cleaned_train_data.head()"
   ]
  },
  {
   "cell_type": "code",
   "execution_count": 9,
   "id": "fce817ba-904d-47ea-a1b6-4315e6f05ce4",
   "metadata": {},
   "outputs": [
    {
     "data": {
      "text/plain": [
       "(28981, 3)"
      ]
     },
     "execution_count": 9,
     "metadata": {},
     "output_type": "execute_result"
    }
   ],
   "source": [
    "Cleaned_data.cleaned_train_data.shape"
   ]
  },
  {
   "cell_type": "markdown",
   "id": "9fc5eaa2-bdc1-4aa4-9de7-02c9e7db52e0",
   "metadata": {},
   "source": [
    "### Test data"
   ]
  },
  {
   "cell_type": "code",
   "execution_count": 10,
   "id": "5045bf6c-d4da-4f89-9b81-7718ffa58457",
   "metadata": {},
   "outputs": [
    {
     "data": {
      "text/html": [
       "<div>\n",
       "<style scoped>\n",
       "    .dataframe tbody tr th:only-of-type {\n",
       "        vertical-align: middle;\n",
       "    }\n",
       "\n",
       "    .dataframe tbody tr th {\n",
       "        vertical-align: top;\n",
       "    }\n",
       "\n",
       "    .dataframe thead th {\n",
       "        text-align: right;\n",
       "    }\n",
       "</style>\n",
       "<table border=\"1\" class=\"dataframe\">\n",
       "  <thead>\n",
       "    <tr style=\"text-align: right;\">\n",
       "      <th></th>\n",
       "      <th>protein_sequence</th>\n",
       "      <th>pH</th>\n",
       "    </tr>\n",
       "    <tr>\n",
       "      <th>seq_id</th>\n",
       "      <th></th>\n",
       "      <th></th>\n",
       "    </tr>\n",
       "  </thead>\n",
       "  <tbody>\n",
       "    <tr>\n",
       "      <th>31390</th>\n",
       "      <td>VPVNPEPDATSVENVAEKTGSGDSQSDPIKADLEVKGQSALPFDVD...</td>\n",
       "      <td>8</td>\n",
       "    </tr>\n",
       "    <tr>\n",
       "      <th>31391</th>\n",
       "      <td>VPVNPEPDATSVENVAKKTGSGDSQSDPIKADLEVKGQSALPFDVD...</td>\n",
       "      <td>8</td>\n",
       "    </tr>\n",
       "    <tr>\n",
       "      <th>31392</th>\n",
       "      <td>VPVNPEPDATSVENVAKTGSGDSQSDPIKADLEVKGQSALPFDVDC...</td>\n",
       "      <td>8</td>\n",
       "    </tr>\n",
       "    <tr>\n",
       "      <th>31393</th>\n",
       "      <td>VPVNPEPDATSVENVALCTGSGDSQSDPIKADLEVKGQSALPFDVD...</td>\n",
       "      <td>8</td>\n",
       "    </tr>\n",
       "    <tr>\n",
       "      <th>31394</th>\n",
       "      <td>VPVNPEPDATSVENVALFTGSGDSQSDPIKADLEVKGQSALPFDVD...</td>\n",
       "      <td>8</td>\n",
       "    </tr>\n",
       "  </tbody>\n",
       "</table>\n",
       "</div>"
      ],
      "text/plain": [
       "                                         protein_sequence  pH\n",
       "seq_id                                                       \n",
       "31390   VPVNPEPDATSVENVAEKTGSGDSQSDPIKADLEVKGQSALPFDVD...   8\n",
       "31391   VPVNPEPDATSVENVAKKTGSGDSQSDPIKADLEVKGQSALPFDVD...   8\n",
       "31392   VPVNPEPDATSVENVAKTGSGDSQSDPIKADLEVKGQSALPFDVDC...   8\n",
       "31393   VPVNPEPDATSVENVALCTGSGDSQSDPIKADLEVKGQSALPFDVD...   8\n",
       "31394   VPVNPEPDATSVENVALFTGSGDSQSDPIKADLEVKGQSALPFDVD...   8"
      ]
     },
     "execution_count": 10,
     "metadata": {},
     "output_type": "execute_result"
    }
   ],
   "source": [
    "Cleaned_data.cleaned_test_data.head()"
   ]
  },
  {
   "cell_type": "code",
   "execution_count": 11,
   "id": "666d9f90-eeb9-437d-8070-4a735114ae87",
   "metadata": {},
   "outputs": [
    {
     "data": {
      "text/plain": [
       "(2413, 2)"
      ]
     },
     "execution_count": 11,
     "metadata": {},
     "output_type": "execute_result"
    }
   ],
   "source": [
    "Cleaned_data.cleaned_test_data.shape"
   ]
  },
  {
   "cell_type": "markdown",
   "id": "75694a3d-420f-4538-b5bd-edcc8acef42b",
   "metadata": {},
   "source": [
    "# **Feature engineering**"
   ]
  },
  {
   "cell_type": "markdown",
   "id": "46ebe83c-5e9c-4fd0-a8ed-0d6a9da77ea4",
   "metadata": {},
   "source": [
    "## Necessary imports"
   ]
  },
  {
   "cell_type": "code",
   "execution_count": 37,
   "id": "706ea9b4-194e-4ded-ae0a-aa4657c01f81",
   "metadata": {},
   "outputs": [],
   "source": [
    "from protlearn.features import aac, entropy, aaindex1, atc\n",
    "from sklearn.cluster import KMeans\n",
    "from sklearn.preprocessing import MinMaxScaler, Normalizer, LabelEncoder\n",
    "from typing import List, AnyStr, Any\n",
    "from numpy import ndarray, array, concatenate, expand_dims, nanmean, where, isnan, take, unique, argsort, split"
   ]
  },
  {
   "cell_type": "markdown",
   "id": "553ec697-9b90-47c5-bd21-8c0a67103d6f",
   "metadata": {},
   "source": [
    "## Feature engineering class"
   ]
  },
  {
   "cell_type": "code",
   "execution_count": 15,
   "id": "660a69a9-4c77-437f-be0f-b7eaea147cd6",
   "metadata": {},
   "outputs": [],
   "source": [
    "class FeatureData(CleanedData):\n",
    "\n",
    "    __ami_symbols = ['A', 'C', 'D', 'E', 'F', 'G', 'H', 'I', 'K', 'L', 'M', 'N', 'P', 'Q', 'R', 'S', 'T', 'V', 'W', 'Y']\n",
    "    __seq_col = 'protein_sequence'\n",
    "    __target_column = 'tm'\n",
    "\n",
    "    @staticmethod\n",
    "    def _ftn1_fill_na_mean(df: DataFrame, *args: Any, col_name: AnyStr = 'pH') -> None:\n",
    "        df[col_name].fillna(float(df[col_name].mean()), inplace=True)\n",
    "\n",
    "    @staticmethod\n",
    "    def _ftn2_convert_num_columns(df: DataFrame, col_names: List[AnyStr], *args: Any) -> ndarray:\n",
    "        if len(col_names) > 0:\n",
    "            return df[col_names].to_numpy()\n",
    "\n",
    "    @staticmethod\n",
    "    def _ftc1_get_seq_length(df: DataFrame, *args: Any, col_name: AnyStr = __seq_col) -> ndarray:\n",
    "        return expand_dims(df[col_name].map(lambda x: len(x)).to_numpy(), 1)\n",
    "\n",
    "    @staticmethod\n",
    "    def _ftc2_get_count_symb(df: DataFrame, *args: Any, col_name: AnyStr = __seq_col,\n",
    "                             amino_res_list: List[AnyStr] = __ami_symbols) -> ndarray:\n",
    "        return array([df[col_name].map(lambda x: x.count(amino_symbol)).tolist() for amino_symbol in amino_res_list]).T\n",
    "\n",
    "    @staticmethod\n",
    "    def _ftc3_get_aac(df: DataFrame, *args: Any, col_name: AnyStr = __seq_col) -> ndarray:\n",
    "        aac_list, aac_base = aac(df[col_name].to_list(), method='relative')\n",
    "        return aac_list if len(aac_base) > 0 else ValueError('Protein sequance base is zero')\n",
    "\n",
    "    @staticmethod\n",
    "    def _ftc4_get_atc_atom_arr(df: DataFrame,  *args: Any, col_name: AnyStr = __seq_col) -> ndarray:\n",
    "        atc_arr, bonds_arr = atc(df[col_name].to_list(), method='relative')\n",
    "        return atc_arr if atc_arr is not None else ValueError('Protein sequance base is zero')\n",
    "\n",
    "    @staticmethod\n",
    "    def _ftc4_get_atc_bonds_arr(df: DataFrame,  *args: Any, col_name: AnyStr = __seq_col) -> ndarray:\n",
    "        atc_arr, bonds_arr = atc(df[col_name].to_list(), method='relative')\n",
    "        return bonds_arr if bonds_arr is not None else ValueError('Protein sequance base is zero')\n",
    "\n",
    "    @staticmethod\n",
    "    def _ftc5_get_aaindex(df: DataFrame,  *args: Any, col_name: AnyStr = __seq_col) -> ndarray:\n",
    "        aaindex_arr, inds = aaindex1(df[col_name].to_list())\n",
    "        return aaindex_arr if inds is not None else ValueError('Protein sequance base is zero')\n",
    "\n",
    "    @staticmethod\n",
    "    def _ftc6_get_entropy(df: DataFrame, *args: Any, col_name: AnyStr = __seq_col) -> ndarray:\n",
    "        return entropy(df[col_name].to_list(), standardize='none')\n",
    "\n",
    "    def _join_arr(self, func_list: List[AnyStr], df: DataFrame, *args: Any) -> ndarray:\n",
    "        func_val_list = []\n",
    "\n",
    "        for function in func_list:\n",
    "            funct_value = getattr(self, function)(df, self.num_cols_list)\n",
    "            if funct_value is not None:\n",
    "                func_val_list.append(funct_value)\n",
    "\n",
    "        return concatenate(func_val_list, axis=1)\n",
    "\n",
    "\n",
    "    def __init__(self):\n",
    "        super(FeatureData, self).__init__()\n",
    "\n",
    "        self.data_dict = {'original_train_indices': self.cleaned_train_data.index.tolist(),\n",
    "                          'original_test_indices': self.cleaned_test_data.index.tolist()}\n",
    "        self.cleaned_train_data.reset_index(inplace=True)\n",
    "        self.cleaned_test_data.reset_index(inplace=True)\n",
    "        self.data_dict['new_train_indices'] = self.cleaned_train_data.index\n",
    "        self.data_dict['new_test_indices'] = self.cleaned_test_data.index\n",
    "        self.data_dict['train_y'] = self.cleaned_train_data[self.__target_column]\n",
    "        self.cleaned_train_data.drop(self.__target_column, axis=1, inplace=True)\n",
    "        self.data_dict['combined_data'] = concat([self.cleaned_train_data, self.cleaned_test_data])\n",
    "\n",
    "        self.cat_col_list = [col_name for col_name in self.cleaned_train_data.columns\n",
    "                             if self.cleaned_train_data[col_name].nunique() < 10\n",
    "                             and self.cleaned_train_data[col_name].dtype == \"object\"]\n",
    "\n",
    "        self.num_cols_list = [col_name for col_name in self.cleaned_train_data.columns\n",
    "                              if self.cleaned_train_data[col_name].dtype in ['int64', 'float64']\n",
    "                              and col_name.find('id') == -1]\n",
    "\n",
    "        self.__static_method_list = []\n",
    "\n",
    "        for method in dir(self):\n",
    "            if callable(getattr(self, method)) and method.startswith('_ft'):\n",
    "                self.__static_method_list.append(method)\n",
    "\n",
    "        self.data_dict['featured_data'] = self._join_arr(self.__static_method_list, self.data_dict['combined_data'])\n",
    "        self.data_dict['train_X'] = self.data_dict['featured_data'][self.data_dict['new_train_indices'], :]\n",
    "        self.data_dict['test_X'] = self.data_dict['featured_data'][self.data_dict['new_test_indices'], :]\n",
    "        self.data_dict.pop('combined_data')\n",
    "        self.data_dict.pop('featured_data')\n",
    "        self.data_dict.pop('new_train_indices')\n",
    "        self.data_dict.pop('new_test_indices')"
   ]
  },
  {
   "cell_type": "markdown",
   "id": "2bff2eb1-3aac-46d4-b93d-7c43a38b4b53",
   "metadata": {},
   "source": [
    "## Class initialization"
   ]
  },
  {
   "cell_type": "code",
   "execution_count": 16,
   "id": "00985b87-3e06-4cbf-8afd-9e15ca317af5",
   "metadata": {},
   "outputs": [],
   "source": [
    "featured_data = FeatureData()"
   ]
  },
  {
   "cell_type": "markdown",
   "id": "b91cca76-4ef0-4ba6-93cd-8fe8ac960319",
   "metadata": {},
   "source": [
    "## Verification of feature addition"
   ]
  },
  {
   "cell_type": "code",
   "execution_count": 20,
   "id": "d6325866-4273-4f0e-8994-bb67e2703241",
   "metadata": {},
   "outputs": [
    {
     "data": {
      "text/plain": [
       "array([[341.        ,  45.        ,   1.        , ...,   3.13219941,\n",
       "          3.88601425,   7.        ],\n",
       "       [286.        ,  28.        ,   0.        , ...,   2.85120629,\n",
       "          3.83666584,   7.        ],\n",
       "       [497.        ,  50.        ,   9.        , ...,   2.9844165 ,\n",
       "          4.07601297,   7.        ],\n",
       "       ...,\n",
       "       [301.        ,  15.        ,  16.        , ...,   3.55916611,\n",
       "          4.13747432,   7.        ],\n",
       "       [287.        ,  41.        ,   1.        , ...,   2.93788153,\n",
       "          3.93796834,   7.        ],\n",
       "       [163.        ,  14.        ,   2.        , ...,   3.55817178,\n",
       "          4.06176195,   7.        ]])"
      ]
     },
     "execution_count": 20,
     "metadata": {},
     "output_type": "execute_result"
    }
   ],
   "source": [
    "featured_data.data_dict['train_X'][:10]"
   ]
  },
  {
   "cell_type": "code",
   "execution_count": 21,
   "id": "b9e2a99d-efbe-4c7e-8c7b-7ce25d73306b",
   "metadata": {},
   "outputs": [
    {
     "data": {
      "text/plain": [
       "(28981, 604)"
      ]
     },
     "execution_count": 21,
     "metadata": {},
     "output_type": "execute_result"
    }
   ],
   "source": [
    "featured_data.data_dict['train_X'].shape"
   ]
  },
  {
   "cell_type": "code",
   "execution_count": 25,
   "id": "54b76c72-aebc-48e5-9588-c8e7d249283b",
   "metadata": {},
   "outputs": [],
   "source": [
    "x = featured_data.data_dict['train_X'][:, -1]"
   ]
  },
  {
   "cell_type": "code",
   "execution_count": 26,
   "id": "2f09f7d8-a075-4c0d-8c90-09cc1003a73d",
   "metadata": {},
   "outputs": [
    {
     "data": {
      "text/plain": [
       "array([7. , 7. , 7. , ..., 2.7, 2.7, 7. ])"
      ]
     },
     "execution_count": 26,
     "metadata": {},
     "output_type": "execute_result"
    }
   ],
   "source": [
    "x"
   ]
  },
  {
   "cell_type": "code",
   "execution_count": 30,
   "id": "bef90598-7d84-41db-908f-4e2b3d7514d3",
   "metadata": {},
   "outputs": [],
   "source": [
    "u_x = unique(x)"
   ]
  },
  {
   "cell_type": "code",
   "execution_count": 32,
   "id": "4ce9e23b-33af-442b-825e-34d95c26b0e2",
   "metadata": {},
   "outputs": [],
   "source": [
    "a = featured_data.data_dict['train_X'][featured_data.data_dict['train_X'][:, -1].argsort()]"
   ]
  },
  {
   "cell_type": "code",
   "execution_count": 35,
   "id": "ccafaf25-434f-4547-820c-660341eee5a8",
   "metadata": {},
   "outputs": [
    {
     "data": {
      "text/plain": [
       "array([[164.        ,  15.        ,   2.        , ...,   3.00312195,\n",
       "          4.10894552,   1.99      ],\n",
       "       [164.        ,  14.        ,   2.        , ...,   3.04633537,\n",
       "          4.10354264,   1.99      ],\n",
       "       [164.        ,  15.        ,   2.        , ...,   2.99373171,\n",
       "          4.09901965,   2.        ],\n",
       "       ...,\n",
       "       [164.        ,  15.        ,   2.        , ...,   2.98427439,\n",
       "          4.1016811 ,   2.        ],\n",
       "       [164.        ,  15.        ,   2.        , ...,   2.99126829,\n",
       "          4.09982048,   2.        ],\n",
       "       [164.        ,  15.        ,   3.        , ...,   3.00975   ,\n",
       "          4.11250084,   2.        ]])"
      ]
     },
     "execution_count": 35,
     "metadata": {},
     "output_type": "execute_result"
    }
   ],
   "source": [
    "a[:10]"
   ]
  },
  {
   "cell_type": "code",
   "execution_count": 38,
   "id": "ec7c9465-1b1a-4559-a1a6-fc64f9d3c494",
   "metadata": {},
   "outputs": [
    {
     "data": {
      "text/plain": [
       "[array([164., 164.]),\n",
       " array([ 164.,  164.,  164.,  164.,  164.,  164.,  164.,  164.,  164.,\n",
       "         164.,  164.,  164.,  104.,  100.,  164.,  164.,  164.,  164.,\n",
       "         164.,  164.,  164.,  164.,  164.,  164.,  164.,  164.,  164.,\n",
       "         164.,  164.,  164., 2477.,  164.,  164.,  164.,  164.,  164.,\n",
       "         164.,  164.,  164.,  164.,  164.,  164.,  164.,  164.,  164.,\n",
       "         164.,  164.,  164.,  164.,  164.,  164.,  164.,  164.,  164.,\n",
       "         164.,  164.,  164.,  164., 2477.,  164.,  164.,  164.,  164.,\n",
       "         100.,  100.,  164.,  105.,  164.,  164.,  164.,  164.,  164.,\n",
       "         164.,  164.,  164.,  164.,  164.,  164.,  164.,  164.,  164.,\n",
       "         164.,  164.,  100.,  100.,  100.,  164.,  164.,  164.,  100.,\n",
       "         164.,  164.,  164.,  164.,  100.,  164.,  164.,  164.,  100.,\n",
       "         164.]),\n",
       " array([164., 164.]),\n",
       " array([164., 164., 164.]),\n",
       " array([164., 164., 164., 109., 109., 109., 109., 109.]),\n",
       " array([148., 148., 148., 148., 164., 148., 164., 148.]),\n",
       " array([148., 148., 148., 148.]),\n",
       " array([164.]),\n",
       " array([164., 164., 164., 164., 164., 164., 164., 164., 164., 164., 164.,\n",
       "        164.]),\n",
       " array([  68.,   68.,  164.,   68., 2477.,   68.,   68.,  164.,  164.,\n",
       "         164.,  104.,  164.,  164.,  164.,   68.,  164., 2477.,  164.,\n",
       "         164.]),\n",
       " array([148.]),\n",
       " array([148., 148., 148., 148., 148., 148., 148., 148., 148., 148., 148.,\n",
       "        148., 148., 148., 148., 148., 148., 148., 148., 148., 148., 148.,\n",
       "        148., 148., 148., 148., 148., 148., 148., 148., 148., 148., 148.,\n",
       "        148., 148., 148., 148., 148., 148., 148., 148., 148., 148., 148.,\n",
       "        148., 148., 148., 148., 148., 148., 148., 148., 148., 148., 148.,\n",
       "        148., 148., 148., 148., 148., 148., 148., 148., 148., 148., 148.,\n",
       "        148., 148., 148., 148., 148., 148., 148., 148., 148., 148., 148.,\n",
       "        148., 148., 148., 148., 148., 148., 148., 148., 148., 148., 148.,\n",
       "        148., 148., 148., 148., 148., 148., 148., 148., 148., 148., 148.,\n",
       "        148., 148., 148., 148., 148., 148., 148., 148., 148., 148., 148.,\n",
       "        147., 148., 148., 148., 148., 148., 148., 148., 148., 148., 147.,\n",
       "        148., 148., 164., 148., 148., 148., 148., 148., 148., 148., 148.,\n",
       "        148., 148., 148., 148., 148., 148., 148., 148., 148., 148., 148.,\n",
       "        148., 148., 148., 148., 148., 148., 148., 148., 147., 148., 148.,\n",
       "        147., 148., 148., 147., 148., 148., 147., 147., 148.]),\n",
       " array([164., 164., 148., 148., 164., 164., 148., 164., 148., 164., 148.]),\n",
       " array([148.]),\n",
       " array([164., 164., 164.]),\n",
       " array([164.]),\n",
       " array([164.]),\n",
       " array([148., 148., 148., 144., 148.]),\n",
       " array([144., 144.]),\n",
       " array([144.]),\n",
       " array([ 164.,  164.,   66.,   84.,   84.,  381.,  164.,  164.,  164.,\n",
       "         381.,  164.,  164.,  381.,  164.,  381.,  381.,  164.,  164.,\n",
       "         381.,  381.,  164.,  164.,  164.,  104.,  164.,  164.,  381.,\n",
       "         164.,  381.,  164.,   84.,  164.,  164.,  164.,  381.,  164.,\n",
       "         164.,  164.,   84.,  164.,  164.,  381.,  164.,  164.,  164.,\n",
       "         164.,   84.,   66.,  164.,   96.,   84.,  164.,  381.,  164.,\n",
       "          84.,   66.,  381.,  164.,  164.,  164.,  164.,  164.,  164.,\n",
       "         164.,  381.,  381.,   96.,  164.,  164.,  381.,  164.,  164.,\n",
       "         164.,  164.,  164.,   96.,  164.,  164.,  164.,  164.,  164.,\n",
       "         164.,  164.,  381.,   96.,  164.,  164.,  155.,  164.,  155.,\n",
       "         100.,  164.,  155.,  164.,  155.,  164.,  155.,  155.,  164.,\n",
       "         155.,  155.,  164.,  155.,  155.,  164.,  155.,  155.,  155.,\n",
       "         164.,  155.,  155.,  164.,  164.,  155.,  164.,  155.,  155.,\n",
       "         155.,  100.,  155.,  100.,  155.,  381.,  164.,  155.,  164.,\n",
       "         155.,  164.,  155.,  155.,  164.,  155.,  164.,  155.,  164.,\n",
       "         164.,  164.,  164.,  164.,  164.,  164.,  164.,  164.,  164.,\n",
       "         164.,  164.,  164.,  164.,  164.,  164.,  164.,  164.,  164.,\n",
       "         164.,  164.,  164.,  164.,  164.,  164.,  164.,  155.,  155.,\n",
       "         164.,  164.,  164.,  155.,  164.,  100.,  164.,  100.,  164.,\n",
       "         164.,  164.,  100.,  164.,  164.,  164.,  164.,  164.,  164.,\n",
       "         155.,  100.,  164.,  155.,  155.,  155.,  164.,  164.,  155.,\n",
       "         164.,  150.,  164.,  381.,  155.,  155.,  155.,  155.,  155.,\n",
       "         155.,  155.,  381.,  155.,  155.,  155.,   66.,  381.,  164.,\n",
       "         164.,  164.,  164., 2477.,  164.,  155.,  164.,  164.,  164.,\n",
       "        2477.,  164.,  164.,  164.,  381.,  155.,  164.,  155.,  164.,\n",
       "         155.,  155.,  155.,  164.,  381.,  381.,  100.,  100.,  155.,\n",
       "         155.,  164.,  155.,  164.,  155.,  164.,  155.,  155.,  100.,\n",
       "         155.,  155.,  155.,   66.,  155.,  155.,  164.]),\n",
       " array([164., 164., 164., 164., 164., 164., 164., 164., 164., 164., 164.,\n",
       "        164., 164., 164., 164., 164., 164., 164., 164., 164., 164., 164.,\n",
       "        164., 164., 164., 164., 164., 164., 164., 164., 164., 164., 164.,\n",
       "        164., 164., 164., 164., 164., 164., 164., 164., 164., 164., 164.,\n",
       "        164., 164., 164., 164., 164., 164., 164., 164., 164., 164., 164.]),\n",
       " array([164., 164.]),\n",
       " array([144., 144.]),\n",
       " array([144., 144.]),\n",
       " array([148., 148., 148., 148., 148.]),\n",
       " array([148.]),\n",
       " array([144., 144.]),\n",
       " array([144., 144.]),\n",
       " array([144.]),\n",
       " array([ 144.,  155.,  155.,  155.,  155.,  148.,  155.,  155.,  155.,\n",
       "         155., 2477.,  155.,  144.,  155.,  164.,  155.,  155.,  155.,\n",
       "         155.,  155.,  164., 2477., 2477., 2477., 2477., 2477., 2477.,\n",
       "         144.,  155., 2477.,  144.,  381.,  381.,  144.,  381.,  381.,\n",
       "         381.,  164.,  381.,  164.,  381.,  381.,  144.,  381.,  155.,\n",
       "         381.,  148.,  381.,  381.]),\n",
       " array([144.]),\n",
       " array([109., 109., 144.]),\n",
       " array([164., 164.]),\n",
       " array([2477.,   84.,  164., 2477.,  164.,   84., 2477.,  109.,  109.,\n",
       "          84.,   84.,   84.,  104.,  109.,   84.,  150.,  109.,   84.,\n",
       "         109.,  164.]),\n",
       " array([104.]),\n",
       " array([164., 100., 164.]),\n",
       " array([109., 109., 109.]),\n",
       " array([381., 381., 381., 381., 381., 381., 381., 381., 381., 381., 381.,\n",
       "        381., 381., 164., 164., 381., 381.]),\n",
       " array([164.]),\n",
       " array([148., 109., 164., 109., 148., 164., 164., 164., 164., 148., 164.,\n",
       "        148., 109., 109., 164., 164., 164., 381., 148., 381., 381., 109.,\n",
       "        109., 164., 109., 164., 148., 104., 164., 150., 109., 164.]),\n",
       " array([147.]),\n",
       " array([164., 164., 164., 150., 164.,  84., 164., 164., 164.,  84., 164.,\n",
       "        164., 164., 164., 164., 150., 150.,  84., 164., 164., 155., 155.,\n",
       "        155., 155., 155., 155., 155., 155., 155., 155., 155., 155., 164.,\n",
       "        155., 155., 155., 155., 155., 155., 155., 155., 155., 155., 155.,\n",
       "        155., 164., 155., 164., 164., 164., 147., 164., 164., 164., 150.]),\n",
       " array([109., 109., 109.]),\n",
       " array([164., 164., 164., 164., 164.]),\n",
       " array([157., 157., 164., 157., 157., 164., 157., 164., 157., 157., 309.,\n",
       "        309., 157., 157., 157., 157., 164., 104., 157., 157., 157., 164.]),\n",
       " array([148., 129., 129., 129., 129., 129., 278., 278., 147., 105., 109.,\n",
       "        278., 278., 109., 278., 278., 164., 164., 278., 278., 148., 562.,\n",
       "        562., 562., 562., 562., 562., 147., 164., 104., 129., 129., 278.,\n",
       "        147., 109., 164., 164., 164., 148., 129., 148., 150.]),\n",
       " array([109., 109., 109., 109., 109., 147., 109., 109., 109., 109., 109.,\n",
       "        109., 109., 109., 109., 109., 155., 109., 109., 109., 109., 109.,\n",
       "        109., 109., 109., 109., 109., 147., 109., 109., 109., 100., 109.,\n",
       "        100., 164., 147.]),\n",
       " array([164., 164.]),\n",
       " array([109., 109., 109.]),\n",
       " array([164., 109., 164., 164., 164., 164., 164.]),\n",
       " array([164., 164.]),\n",
       " array([109., 109., 231., 109., 104., 109., 231., 231., 109., 231., 231.,\n",
       "        109., 150., 130., 231., 231., 150., 150., 150., 150., 150., 150.,\n",
       "        307., 150., 150., 150., 150., 307., 150., 150., 150., 150., 150.,\n",
       "        150., 150., 150., 150., 150., 150., 150., 150., 150., 150., 150.,\n",
       "        150., 150., 150., 150., 150., 150., 150., 150., 150., 150., 150.,\n",
       "        150., 150., 150., 150., 150., 150., 150., 150., 150., 150., 150.,\n",
       "        150., 150., 150., 150., 164., 150., 150., 150., 156., 156., 150.,\n",
       "        150., 164., 104., 150., 150., 150., 150., 104., 104., 150., 150.,\n",
       "        150., 104., 150., 150., 104., 156., 156., 150., 150., 164., 150.,\n",
       "        150., 150., 150., 150., 150., 150., 150., 156., 150., 150., 104.,\n",
       "        150., 150., 150., 150., 150.]),\n",
       " array([155., 164., 150., 155.]),\n",
       " array([448., 448., 164., 448., 448., 448., 448., 448., 448., 448., 448.,\n",
       "        448., 448., 448., 448., 448., 448., 448., 448., 448., 448., 448.,\n",
       "        448., 448., 448., 448., 448., 231., 109., 164., 448., 448., 448.,\n",
       "        448., 448., 448., 448., 109., 448., 448., 448., 448., 448., 448.,\n",
       "        448., 448., 448., 448., 448., 448., 448., 448.]),\n",
       " array([231.]),\n",
       " array([164., 164., 164., 164., 164., 164., 164.]),\n",
       " array([164.]),\n",
       " array([164., 164., 164., 164., 164., 231., 164., 164., 164., 164., 164.,\n",
       "        164.]),\n",
       " array([231., 231.]),\n",
       " array([164., 164., 164., 231., 164., 164., 164., 164., 164., 164., 164.,\n",
       "        164., 164., 164., 231., 164., 149., 164., 164., 164., 164., 164.,\n",
       "        164., 164., 164., 164., 164., 164., 164., 164., 164., 164., 164.,\n",
       "        164., 164., 164., 164., 164., 149., 149., 164., 149., 149., 149.,\n",
       "        164., 231., 164., 164., 164., 164., 164., 164., 164., 164., 164.,\n",
       "        164., 164., 164., 164., 164., 164., 164., 164., 164., 164., 164.,\n",
       "        164., 164., 164., 164., 164., 164., 164., 164., 164., 164., 164.,\n",
       "        164., 164., 164., 164., 164., 164., 164., 164., 164., 164., 164.,\n",
       "        164., 164., 164., 164., 164., 164., 164., 164., 164., 164., 164.,\n",
       "        164., 164., 164., 164., 164., 164., 164., 164., 164., 164., 164.,\n",
       "        164., 164., 164., 164., 164., 164., 164.]),\n",
       " array([231., 164., 164., 164., 164., 164., 164., 164., 164., 164., 164.]),\n",
       " array([164., 164., 164., 164., 164.]),\n",
       " array([ 96., 428., 164.,  96., 428., 164.,  96.,  96., 428., 428.,  96.,\n",
       "        428., 428., 164., 428., 428., 428., 428., 428., 428., 428., 164.,\n",
       "        428., 428., 164., 428., 428., 428., 428., 164., 428., 428., 428.,\n",
       "        428., 428., 428., 428., 428., 428., 428.,  99., 428., 155., 448.,\n",
       "        448., 448., 448., 155., 155., 155., 155., 155., 155., 155., 155.,\n",
       "        155., 155., 448., 155., 155., 155., 155., 155., 155., 155., 155.,\n",
       "        155., 155., 155., 155., 155., 155., 155., 164., 155., 155., 448.,\n",
       "        448., 448., 448., 448., 104., 104., 104., 448., 155., 155., 155.,\n",
       "        155., 155., 155., 155., 448., 155., 155., 155., 155., 155., 164.,\n",
       "        155., 155., 155., 155., 155., 155.,  99., 428.,  99.,  99.,  99.,\n",
       "         99.,  99.,  99.,  99.,  99.,  99.,  99.,  99.,  99.,  99.,  99.,\n",
       "         99.,  99.,  99., 164.,  96.,  96.,  96.,  84.,  96., 164.,  84.,\n",
       "         84.,  96.,  99.,  99.,  96.,  99.,  99.,  99.,  99.,  99.,  99.]),\n",
       " array([ 84., 154., 154.]),\n",
       " array([164., 164., 164., 164., 164., 164., 164., 164., 164., 164., 164.,\n",
       "        164.,  84.,  84., 164., 147., 164.,  84., 164., 164., 164., 164.,\n",
       "        164., 164., 164., 164., 164.]),\n",
       " array([147., 164.,  66., 164., 164.,  84., 155.,  84.]),\n",
       " array([231., 109.,  84., 164.]),\n",
       " array([477., 155., 155., 155., 477., 150., 477., 109., 164., 164., 109.,\n",
       "        104., 109., 109., 109., 109., 477., 109., 477., 477., 477., 477.,\n",
       "        477., 477., 477., 155., 477., 477., 164., 164., 130., 130., 130.,\n",
       "        164., 231., 477., 130., 130., 130., 130., 477., 164., 477., 477.,\n",
       "        477., 477., 155., 155., 155., 477., 477., 477., 164., 164., 155.,\n",
       "        477., 477., 150., 211., 211., 211., 211.,  63., 309., 309., 164.,\n",
       "        211., 211., 211.,  63., 307., 211., 150., 307., 307., 150., 150.,\n",
       "        150., 150., 150., 150., 150., 150.]),\n",
       " array([157.]),\n",
       " array([231., 231., 164., 164., 164.,  96.,  96.,  96.,  96., 164.,  96.]),\n",
       " array([157.,  84., 157.,  84.,  96.,  84.,  84.,  84.,  84., 157.,  84.,\n",
       "        157.,  84.,  84., 157., 157., 157.,  84.,  84.,  84.,  84.,  84.,\n",
       "         84.,  84.,  84., 157., 157., 157.,  96.,  96.,  84.,  84.,  84.,\n",
       "         84.,  84.,  84.,  84.,  84.,  84., 157., 157., 157., 157., 157.,\n",
       "        157., 157., 157., 157., 157., 157., 157.,  84.,  84.,  96., 157.,\n",
       "        157., 157., 157.]),\n",
       " array([231., 147., 147., 147., 147., 147., 147., 147.,  96., 147., 147.,\n",
       "        147., 147., 147., 147., 147., 147., 147., 147., 147., 147., 147.,\n",
       "        147., 147., 147., 147., 147., 147., 147., 147., 147., 147., 147.,\n",
       "        147., 147., 147.,  96.,  96., 147., 147., 147.]),\n",
       " array([164., 164., 164., 164., 164., 164., 164., 164., 164., 164., 164.,\n",
       "        164., 164., 164., 164., 164., 164., 164., 164., 307., 164., 164.,\n",
       "        164., 164., 164., 164., 307., 164., 164., 164., 164., 164., 164.,\n",
       "        164., 396., 164., 164., 164., 164., 164., 164., 164., 164., 164.,\n",
       "        164., 164., 164., 164., 164., 396., 164., 164., 396., 231., 231.,\n",
       "        396.,  96., 396., 164., 130., 164., 164., 164., 164., 164., 164.,\n",
       "        164., 164., 164., 164., 164., 164., 164.]),\n",
       " array([155., 155., 402., 155., 155., 155., 155.,  96., 402., 155.,  96.,\n",
       "        155., 144., 155., 155., 154., 154., 155., 155., 402., 155., 155.,\n",
       "        155.]),\n",
       " array([164., 164., 164., 164., 164., 164., 164., 164., 164., 164., 164.,\n",
       "        164., 164., 164., 164., 164., 164., 164., 164., 231., 231.,  96.]),\n",
       " array([164., 164., 164., 164., 164., 164., 164., 164., 164., 164., 164.,\n",
       "        164.]),\n",
       " array([164., 164.,  96.,  96.,  96.,  96., 164., 164., 231., 377., 164.,\n",
       "        164., 164., 231., 164., 197., 164., 164., 377., 377., 197.]),\n",
       " array([164., 164., 144., 144., 144., 144.]),\n",
       " array([246., 286., 286., 355., 392., 392., 392., 392., 392., 392., 355.,\n",
       "        286.,  67., 286., 286., 286., 246., 286., 246., 294., 294., 294.,\n",
       "        294., 246., 246., 774., 774., 329., 246., 246., 246., 246., 246.,\n",
       "        246., 246., 246., 392., 246., 286., 246., 448., 363., 363., 363.,\n",
       "        363., 363., 363., 363., 363., 363., 363., 363., 363., 363., 363.,\n",
       "        363., 363., 363., 294., 363., 246., 246., 246., 363., 363., 363.,\n",
       "        363., 363., 363., 363., 363., 363., 363., 363., 363., 363., 246.,\n",
       "        246., 363., 294., 294., 363., 246., 246., 246., 448., 448., 448.,\n",
       "        448., 448., 448., 448., 448., 448., 448., 448., 448., 448., 448.,\n",
       "        246., 448., 448., 448., 448., 448., 448., 448., 448., 246., 448.,\n",
       "        246., 448., 448., 448., 448., 448., 448., 448., 448., 448., 246.,\n",
       "        448., 448., 517., 517., 517., 448., 246., 246., 448., 246., 246.,\n",
       "        329., 294., 294., 294., 294., 246., 296., 448., 448., 448., 448.,\n",
       "        448., 448., 448., 448., 448., 246., 448., 246., 448., 448., 448.,\n",
       "        448., 448., 246., 246., 448., 294., 363., 363., 363., 246., 246.,\n",
       "        246., 246., 246., 246., 246., 246., 246., 246., 246., 246., 246.,\n",
       "        246., 246., 246., 246., 246., 246., 246., 246., 246., 246., 246.,\n",
       "        246., 246., 246., 246., 246., 246., 246., 246., 246., 246., 246.,\n",
       "        246., 246., 246., 246., 246., 246., 246., 246., 246., 246., 246.,\n",
       "        246., 246., 246., 246., 246., 246., 246., 246., 246., 246., 246.,\n",
       "        246., 246., 246., 246., 246., 663., 663., 663., 663., 663., 246.,\n",
       "        246., 246., 246., 246., 246., 246., 246., 663., 246., 246., 246.,\n",
       "        246., 246., 246., 246., 246., 246., 246., 246., 246., 246., 246.,\n",
       "        246., 663., 246., 246., 246., 246., 246., 246., 246., 246., 246.,\n",
       "        246., 246., 246., 246., 246., 663., 246., 246., 246., 246., 246.,\n",
       "        246., 246., 246., 246., 246., 246., 246., 246., 246., 246., 246.]),\n",
       " array([  74.,  594.,   97., ...,  143., 1809.,  707.]),\n",
       " array([150., 150., 150., 150., 150., 150., 150., 150., 150., 178.]),\n",
       " array([268., 268., 268., 214., 214., 214., 396., 396., 396., 212., 268.,\n",
       "        268., 268., 268., 268., 396., 268., 268., 268., 268., 268., 268.,\n",
       "        268., 268., 212., 212., 268., 268., 268., 212., 212., 212., 268.,\n",
       "        212., 268., 212., 212., 212., 212., 212., 448., 212., 268., 212.,\n",
       "        212., 268., 212., 268., 212., 268., 268., 268., 268., 212., 212.]),\n",
       " array([155., 148., 155., 155., 155., 155., 155., 155., 155., 155., 155.,\n",
       "        155., 155., 155., 155., 155., 155., 155., 155., 155.]),\n",
       " array([142., 142., 142., 142., 142., 142., 142., 142., 142., 142., 142.,\n",
       "        142., 142., 142., 142., 142., 214., 214., 142., 142., 142., 142.,\n",
       "        142., 142., 142., 142., 364., 142.,  90., 415., 250., 464., 142.,\n",
       "        415., 364., 364., 364., 364., 364., 364., 364., 364., 364., 415.,\n",
       "        415., 415., 415., 142., 142., 142., 142., 142., 142., 142., 142.,\n",
       "        142., 142., 142., 142., 142., 142., 142., 142., 142., 142., 142.,\n",
       "        142., 667., 142., 667., 667., 667., 392., 392., 392., 267., 150.,\n",
       "        150., 150., 101., 101., 101., 667., 101., 667., 201., 201., 201.,\n",
       "        201., 201., 201., 201., 201., 201., 201., 667., 667., 667., 667.,\n",
       "        667., 667., 392., 101., 101., 101., 101., 101., 101., 101., 101.,\n",
       "        101., 101., 101., 101., 101., 101., 101., 109., 109., 150., 101.,\n",
       "        101., 101., 101., 101., 101., 101., 101., 101., 128., 128., 392.,\n",
       "        128., 128., 128., 685., 101., 101., 101., 685., 128., 201., 667.,\n",
       "        415., 396., 142., 142., 142., 396., 142., 142., 396., 142., 142.,\n",
       "        142., 142., 142., 396., 142., 201., 360., 360., 360., 142., 142.,\n",
       "        179., 142., 396., 142., 142., 179., 142., 110., 396., 110., 142.,\n",
       "        142., 110., 101., 142., 142., 142., 268., 142., 179., 179., 142.,\n",
       "        110., 110.]),\n",
       " array([448., 448., 448., 448., 307., 448., 307.,  53., 448., 448., 448.,\n",
       "        448., 448., 448., 448., 448., 448., 448., 448., 448., 448., 448.,\n",
       "        448., 448., 448., 448., 448., 448., 448., 448., 448., 448., 448.,\n",
       "        448., 448., 448., 577., 448., 448., 448., 448., 448., 448.,  53.,\n",
       "         67.,  67.,  67.,  67.,  67.,  67., 310., 448., 448., 448., 448.,\n",
       "        448., 448., 448., 448., 448., 448., 448., 448., 577., 577.,  67.,\n",
       "        448., 448., 448., 448., 448., 448., 448., 448., 448., 448., 448.,\n",
       "        448., 448., 448., 448., 448., 448., 448., 448., 448., 448.,  67.,\n",
       "         67.,  67., 448., 448., 448.,  67., 448., 448., 101., 252., 101.,\n",
       "        101., 101., 101., 101., 101., 101., 101., 485., 485., 485., 396.,\n",
       "        101., 396., 485., 485., 485., 485., 396., 396., 396., 396., 396.,\n",
       "        485., 485., 485., 396., 485., 101., 101., 101., 101., 101., 101.,\n",
       "        101., 101., 101., 101., 101., 101., 101., 101., 101., 101., 101.,\n",
       "        101., 101., 101., 101., 101., 101., 101., 101., 101., 101., 101.,\n",
       "        101., 101., 485., 485., 101., 101., 101., 101., 101., 101., 393.,\n",
       "        911., 911., 911., 911., 485., 101., 485., 485., 464., 464., 464.,\n",
       "        464., 464., 464., 252., 485., 237., 540., 540., 485., 485., 101.,\n",
       "        485., 485., 485., 485., 485., 485., 101., 485., 485., 101., 101.,\n",
       "        101., 101., 101., 101., 101., 101., 101., 101., 101., 101., 101.,\n",
       "        485., 485., 101., 485., 101., 101., 540., 101., 101., 485., 485.,\n",
       "        485., 485., 485., 485., 485., 485.,  53.,  53.,  53.,  53., 485.,\n",
       "         53.,  53.,  53.,  53.,  53.,  53.,  53.,  53.,  53.,  53.,  53.,\n",
       "         53.,  53.,  53.,  53., 485.,  53., 485., 485., 485., 485., 485.,\n",
       "        485., 485., 485., 485., 485., 485., 485., 485., 485., 485., 485.,\n",
       "        485., 485., 485., 485., 485., 485., 485., 485., 485., 485., 485.,\n",
       "        101.,  53.,  53., 485., 485., 485., 485., 485., 142., 142., 142.,\n",
       "        142., 485., 485., 485., 485., 485., 485., 485., 101., 101., 101.,\n",
       "        101., 101., 101., 101., 101., 101., 101., 485.,  53., 485., 485.,\n",
       "         53.,  53.,  53.,  53.,  53.,  53.,  53.,  53.,  53.,  53.,  53.,\n",
       "         53., 485.,  53.,  53.,  53.,  53.,  53.,  53.,  53.,  53.,  53.,\n",
       "         53.,  53.,  53.,  53.,  53., 540., 485., 540., 636., 636., 346.,\n",
       "        346., 346., 169., 169., 346., 222., 222., 222., 458., 458., 458.,\n",
       "        458., 458., 458., 636., 458., 636., 346., 169., 169., 169., 169.,\n",
       "        346., 169., 169., 169., 169., 169., 222., 309., 309., 309., 346.,\n",
       "        346., 346., 346., 169., 458., 458., 540., 540., 540., 458., 458.,\n",
       "        458., 458., 458., 288., 458., 458., 458., 540., 458., 458., 458.,\n",
       "        540., 540., 458., 458., 288., 288., 458., 458., 458., 458., 458.,\n",
       "        458., 458., 458., 288.,  53., 288., 288., 288., 288., 540., 288.,\n",
       "        288.]),\n",
       " array([296., 296., 439., 439., 439., 231., 231., 268., 268., 439., 439.,\n",
       "        439., 253., 439., 439., 439., 439., 439., 253., 439., 439., 439.,\n",
       "        439., 439., 439., 439., 439.]),\n",
       " array([268., 142., 142., 142., 142., 142.]),\n",
       " array([222., 222., 222., 222., 222., 222., 222., 222., 222., 222., 222.,\n",
       "        222., 222., 222., 222., 222., 268., 418., 418., 418., 418., 418.,\n",
       "        418., 418., 155., 100., 155., 100., 268., 268., 268., 155., 268.,\n",
       "        155.]),\n",
       " array([ 382.,  382.,  382.,  382.,  382.,  537.,  537.,  382.,  537.,\n",
       "         537.,  537.,  145.,  537.,  537.,  382.,  537.,  537.,  537.,\n",
       "         537.,  537.,  537.,  382.,  145.,  145.,  382.,  237.,  237.,\n",
       "         237.,  237.,  237.,  237.,  144.,  237.,  237.,  237.,  237.,\n",
       "         237.,  431.,  431.,  237.,  382.,  144.,  144.,  145.,  537.,\n",
       "         381.,  145.,  145.,  145.,  144.,  145.,  270.,  270.,  144.,\n",
       "         144.,  104.,  144.,  270.,  537.,  537.,  537.,  254.,  254.,\n",
       "         254.,  537.,  254.,  537.,  537.,  537.,  537.,  537.,  537.,\n",
       "         537.,  537.,  537.,  537.,  537.,  537.,  537.,  537.,  537.,\n",
       "         537.,  537.,  537.,  537.,  537.,  537.,  537.,  537.,  537.,\n",
       "         254.,  537.,  142.,  254.,  537.,  537.,  537.,  537.,  537.,\n",
       "         537.,  537.,  537.,  537.,  537.,  537.,  537.,  537.,  537.,\n",
       "         537.,  537.,  537.,  537.,  537.,  537.,  537.,  537.,  537.,\n",
       "         537.,  537.,  537.,  537.,  537.,  537.,  142.,  455.,  234.,\n",
       "         234.,  455.,  455.,  455.,  455.,  455.,  455.,  455.,  455.,\n",
       "         307.,  455.,  455.,  455.,  307.,  455.,  455.,  455., 1159.,\n",
       "        1159., 1159., 1159., 1159., 1159., 1159.,  455.,  455.,  455.,\n",
       "         455.,  455.,  455.,  455.,  455.,  455.,  455.,  455.,  455.,\n",
       "         455.,  455.,  455.,  455.,  455.,  455.,  455.,  455.,  455.,\n",
       "        1159.,  455.,  455.,  455.,  455.,  455.,  455.,  455.,  455.,\n",
       "         455.,  455.,  455.,  455.,  455.,  455.,  455.,  455.,  455.,\n",
       "         455.,  455.,  455.,  455.,  455.,  455.,  455.,  234.,  455.,\n",
       "         455.,  455.,  455.,  455.,  455.,  455.,  455.,  455.,  455.,\n",
       "         455.,  455.,  455.,  455.,  455.,  455.,  455.,  455.,  455.,\n",
       "         455.,  455.,  455.,  455.,  455.,  455.,  455.,  455., 1159.,\n",
       "         455.,  455.,  455.,  455.,  455.,  455.,  455.,  455.,  455.,\n",
       "        1159.,  455.,  455.,  455.,  455.,  455.,  455.,  455.,  455.,\n",
       "         455.,  455.,  455.,  455.,  455.,  455.,  455.,  455.,  455.,\n",
       "         455.,  133.,  133.,  455.,  455.,  455.,  455.,  455.,  455.,\n",
       "         455.,  455.,  455.,  455.,  455.,  455.,  455.,  455.,  455.,\n",
       "         455.,  455.,  455.,  455.,  455.,  455.,  455.,  455.,  396.,\n",
       "         455.,  133.,  133.,  133.,  133.,  234.,  234.,  234.,  234.,\n",
       "         234.,  234.,  234.,  234.,  234.,  234.,  234.,  234.,  234.,\n",
       "         455.,  455.,  574.,  455.,  455.,  455.,  455.,  455.,  455.,\n",
       "         455.,  455.,  574.,  455.,  133.,  133.,  574.,  455.,  455.,\n",
       "         455.,  455.,  455.,  455.,  455.,  455.,  455.,  455.,  455.,\n",
       "         455.,  455.,  455.,  455.,  455.,  455.,  455.,  455.,  455.,\n",
       "         455.,  455.,  455.,  455.,  455.,  455.,  455.,  455.,  455.,\n",
       "         455.,  455.,  455.,  455.,  455.,  455.,  455.,  455.,  455.,\n",
       "         455.,  455.,  455.,  455.,  455.,  455.,  455.,  455.,  455.,\n",
       "         455.,  396.,  455.,  455.,  455.,  455.,  455.,  455.,  455.,\n",
       "         455.,  455.,  455.,  231.,  455.,  455.,  455.,  455.]),\n",
       " array([159., 144., 159., 159., 159., 159., 159., 159., 159., 159., 159.,\n",
       "        159., 159., 159., 159., 144., 144., 159., 144., 144.]),\n",
       " array([351., 351., 351., 351., 351., 351., 351., 351.]),\n",
       " array([186., 186.,  96., 156., 156., 156., 156., 186., 156., 186., 186.,\n",
       "        186., 186., 186., 156., 186., 186., 186., 186., 186., 186., 186.,\n",
       "        186., 156., 186., 156.,  96.,  96., 150., 156., 156., 396., 396.,\n",
       "        396., 396.,  96., 396., 396.]),\n",
       " array([130.]),\n",
       " array([268., 228., 155., 228., 228., 228., 228., 228., 228., 155., 307.,\n",
       "        307., 155., 228., 228., 228., 228., 155., 228., 228., 228., 268.,\n",
       "        155., 268., 228., 268., 228., 228., 155., 268., 268., 155., 268.,\n",
       "        268., 268., 268., 268., 268., 268., 268., 268., 159., 159., 155.,\n",
       "        268., 155., 396., 155., 155., 155., 155., 396., 228., 228., 268.]),\n",
       " array([54., 54.]),\n",
       " array([144., 396., 396., 396., 396., 396., 144., 144., 144., 144., 396.,\n",
       "        144., 144., 144., 144., 144., 144., 144., 144., 144.]),\n",
       " array([154., 154., 154., 154., 154., 154., 154., 154., 154., 154., 154.,\n",
       "        154., 154., 154., 154.]),\n",
       " array([130.]),\n",
       " array([144., 144.]),\n",
       " array([396., 396., 396., 396., 396., 396.]),\n",
       " array([386., 386., 386., 386.]),\n",
       " array([154.]),\n",
       " array([396., 164., 396., 164., 396., 396.]),\n",
       " array([154., 154., 154., 154., 154., 154., 154., 154., 154., 154., 154.,\n",
       "        154., 154., 154., 154., 154., 154., 154., 154., 154., 154., 154.,\n",
       "        154., 154., 154., 154., 154.])]"
      ]
     },
     "execution_count": 38,
     "metadata": {},
     "output_type": "execute_result"
    }
   ],
   "source": [
    "split(a[:, 0], unique(a[:, -1], return_index=True)[1][1:])"
   ]
  },
  {
   "cell_type": "markdown",
   "id": "031e6305-459d-41fd-8f16-d823e9fc49fd",
   "metadata": {},
   "source": [
    "# Data preprocessing"
   ]
  },
  {
   "cell_type": "markdown",
   "id": "cd65e338-15ff-40c3-a92a-7f5802b2c7f1",
   "metadata": {},
   "source": [
    "## Necessary imports"
   ]
  },
  {
   "cell_type": "markdown",
   "id": "e232427e-9529-4dde-a03d-abde83133177",
   "metadata": {},
   "source": [
    "## Data preprocessing class"
   ]
  },
  {
   "cell_type": "code",
   "execution_count": 22,
   "id": "d6944369-dac3-4f47-ad09-ddf14929faa5",
   "metadata": {},
   "outputs": [],
   "source": [
    "class PreprocessedData(FeatureData):\n",
    "\n",
    "    def __init__(self):\n",
    "        super(PreprocessedData, self).__init__()"
   ]
  },
  {
   "cell_type": "markdown",
   "id": "f6b1d7c3-f0a2-498c-9aea-cb90cf270a20",
   "metadata": {},
   "source": [
    "## Class initialization"
   ]
  },
  {
   "cell_type": "code",
   "execution_count": 23,
   "id": "54954988-df78-4a15-8c5a-ce21bd60aad0",
   "metadata": {},
   "outputs": [],
   "source": [
    "preprocessed_data = PreprocessedData()"
   ]
  },
  {
   "cell_type": "markdown",
   "id": "952f1026-4f8c-402c-9ec8-5721ffe2f798",
   "metadata": {},
   "source": [
    "## Verification of preprocessing"
   ]
  },
  {
   "cell_type": "code",
   "execution_count": 24,
   "id": "468323a8-128e-4e4a-9a7c-3305fe1347ef",
   "metadata": {},
   "outputs": [
    {
     "data": {
      "text/plain": [
       "array([[341.        ,  45.        ,   1.        , ...,   3.13219941,\n",
       "          3.88601425,   7.        ],\n",
       "       [286.        ,  28.        ,   0.        , ...,   2.85120629,\n",
       "          3.83666584,   7.        ],\n",
       "       [497.        ,  50.        ,   9.        , ...,   2.9844165 ,\n",
       "          4.07601297,   7.        ],\n",
       "       ...,\n",
       "       [301.        ,  15.        ,  16.        , ...,   3.55916611,\n",
       "          4.13747432,   7.        ],\n",
       "       [287.        ,  41.        ,   1.        , ...,   2.93788153,\n",
       "          3.93796834,   7.        ],\n",
       "       [163.        ,  14.        ,   2.        , ...,   3.55817178,\n",
       "          4.06176195,   7.        ]])"
      ]
     },
     "execution_count": 24,
     "metadata": {},
     "output_type": "execute_result"
    }
   ],
   "source": [
    "preprocessed_data.data_dict['train_X'][:10]"
   ]
  },
  {
   "cell_type": "markdown",
   "id": "0a99155c-c61d-40af-ad63-d796c1722bbd",
   "metadata": {},
   "source": [
    "# Model training"
   ]
  },
  {
   "cell_type": "markdown",
   "id": "4ed3147e-5da2-48f7-b18c-6519bd7a5c44",
   "metadata": {},
   "source": [
    "## Necessary imports"
   ]
  },
  {
   "cell_type": "markdown",
   "id": "ef0355df-8912-45ef-bc04-85472a65207b",
   "metadata": {},
   "source": [
    "## Data preprocessing class"
   ]
  },
  {
   "cell_type": "markdown",
   "id": "9e221728-4e3e-4910-a7f2-78d297a92acb",
   "metadata": {},
   "source": [
    "## Class initialization"
   ]
  }
 ],
 "metadata": {
  "kernelspec": {
   "display_name": "Python 3 (ipykernel)",
   "language": "python",
   "name": "python3"
  },
  "language_info": {
   "codemirror_mode": {
    "name": "ipython",
    "version": 3
   },
   "file_extension": ".py",
   "mimetype": "text/x-python",
   "name": "python",
   "nbconvert_exporter": "python",
   "pygments_lexer": "ipython3",
   "version": "3.10.5"
  },
  "toc-autonumbering": true,
  "toc-showmarkdowntxt": false,
  "toc-showtags": false
 },
 "nbformat": 4,
 "nbformat_minor": 5
}
