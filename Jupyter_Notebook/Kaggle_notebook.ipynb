{
 "cells": [
  {
   "cell_type": "markdown",
   "id": "a3a5e2c9-19bd-4f06-8213-e82809fced8b",
   "metadata": {},
   "source": [
    "# **1.Data loading**"
   ]
  },
  {
   "cell_type": "markdown",
   "id": "339272ac-58aa-46d7-8e78-9f793576ab6d",
   "metadata": {},
   "source": [
    "## Imports"
   ]
  },
  {
   "cell_type": "code",
   "execution_count": 1,
   "id": "1a4c14b9-3cf5-4b4f-bf48-59f65a701d09",
   "metadata": {},
   "outputs": [],
   "source": [
    "from os import path, sep, pardir, getcwd, listdir\n",
    "from typing import AnyStr, List, Dict, Set, Any\n",
    "\n",
    "from pandas import DataFrame, read_csv, concat"
   ]
  },
  {
   "cell_type": "markdown",
   "id": "f1f20490-c7fc-4b73-a7c0-45bf8c067ca4",
   "metadata": {},
   "source": [
    "## Data loading class"
   ]
  },
  {
   "cell_type": "markdown",
   "id": "2c6ced97-4a12-489e-a38b-dcd5002debee",
   "metadata": {},
   "source": [
    "*(Completetly unnecessary and a bite chaotic)*"
   ]
  },
  {
   "cell_type": "code",
   "execution_count": 2,
   "id": "d495eb0b-ed42-4aee-890e-fe95b11c2124",
   "metadata": {},
   "outputs": [],
   "source": [
    "from os import path, sep, pardir, getcwd, listdir\n",
    "from typing import AnyStr, List, Dict, Set, Any\n",
    "\n",
    "from pandas import DataFrame, read_csv, concat\n",
    "\n",
    "\n",
    "class LoadedData:\n",
    "    \"\"\"Class storing the train and test data\"\"\"\n",
    "\n",
    "    @staticmethod\n",
    "    def _get_loading_paths(searched_tags: Set[AnyStr] = ('train', 'test', 'train_updates')) -> Dict[AnyStr, AnyStr]:\n",
    "        \"\"\"Function returns the loading paths for the relevant data\"\"\"\n",
    "\n",
    "\n",
    "        def _join_list_to_str(*args: List[Any]) -> str:\n",
    "            \"\"\"Function joins the first list arguments\"\"\"\n",
    "            str_var = \"\"\n",
    "\n",
    "            for arg in args:\n",
    "                if arg != args[-1]:\n",
    "                    str_var += arg[0] + '\\\\'\n",
    "\n",
    "                else:\n",
    "                    str_var += arg[0]\n",
    "\n",
    "            return str_var\n",
    "\n",
    "\n",
    "        def _check_list(list_var: List[AnyStr]) -> bool:\n",
    "            \"\"\"Function checks the given list length\"\"\"\n",
    "            return True if len(list_var) == 1 else False\n",
    "\n",
    "\n",
    "        def _get_working_directory(str_var: AnyStr = \"\") -> AnyStr:\n",
    "            \"\"\"Function returns the path to data in the working directory\"\"\"\n",
    "            return str(path.normpath(getcwd() + sep + pardir)) + f'\\\\{str_var}'\n",
    "\n",
    "\n",
    "        def _get_all_subdirectories(path_str: AnyStr = \"\") -> List[AnyStr]:\n",
    "            \"\"\"Function returns all the possible subdirectories\"\"\"\n",
    "            if path_str:\n",
    "                return listdir(path_str)\n",
    "\n",
    "            else:\n",
    "                return listdir(_get_working_directory())\n",
    "\n",
    "        docs_subdir_list = [subdir for subdir in _get_all_subdirectories() if subdir.lower().find('docs') >= 0]\n",
    "\n",
    "        if _check_list(docs_subdir_list):\n",
    "            docs_path = _get_working_directory(_join_list_to_str(docs_subdir_list))\n",
    "            data_subdir_list = [subdir for subdir in _get_all_subdirectories(docs_path)\n",
    "                                if subdir.lower().find('data') >= 0]\n",
    "\n",
    "            if _check_list(data_subdir_list):\n",
    "                data_path = _get_working_directory(_join_list_to_str(docs_subdir_list, data_subdir_list))\n",
    "                tag_dict = {}\n",
    "\n",
    "                for tag in searched_tags:\n",
    "                    tag_subdir_list = [subdir for subdir in _get_all_subdirectories(data_path)\n",
    "                                       if subdir.lower().find(f'{tag}') >= 0]\n",
    "\n",
    "                    if len(tag_subdir_list) > 0:\n",
    "                        tag_path = _get_working_directory(_join_list_to_str(docs_subdir_list,\n",
    "                                                                            data_subdir_list,\n",
    "                                                                            tag_subdir_list))\n",
    "                        tag_dict[f'{tag}_df'] = tag_path\n",
    "\n",
    "                return tag_dict\n",
    "\n",
    "            else:\n",
    "                raise FileExistsError('No or to much of data directory in the docs')\n",
    "\n",
    "        else:\n",
    "            raise FileExistsError('No or to much of docs directory in the current working directory')\n",
    "\n",
    "    @staticmethod\n",
    "    def _get_corrected_train_data(train_df: DataFrame, update_df: DataFrame) -> DataFrame:\n",
    "        \"\"\"Function returns the corrected train data with the last update file\"\"\"\n",
    "        update_df.data_source = train_df.loc[update_df.index, 'data_source']\n",
    "        update_indexes = update_df[update_df.protein_sequence.isna()].index\n",
    "        update_df.loc[update_indexes, 'protein_sequence'] = train_df.loc[update_indexes, 'protein_sequence']\n",
    "        train_df.drop(update_df.index, inplace=True)\n",
    "        return concat([train_df, update_df])\n",
    "\n",
    "\n",
    "    def __init__(self, initialzation: bool = True) -> None:\n",
    "        if initialzation is True:\n",
    "            self.loading_paths_dict = self._get_loading_paths()\n",
    "            self.test_df = read_csv(self.loading_paths_dict['test_df'], index_col=\"seq_id\")\n",
    "            self.train_df = self._get_corrected_train_data(\n",
    "                read_csv(self.loading_paths_dict['train_df'], index_col=\"seq_id\"),\n",
    "                read_csv(self.loading_paths_dict['train_updates_df'], index_col=\"seq_id\")\n",
    "            )"
   ]
  },
  {
   "cell_type": "markdown",
   "id": "e3f13d3d-c373-4885-9cce-ea81d8d3e8bc",
   "metadata": {},
   "source": [
    "## Class calling"
   ]
  },
  {
   "cell_type": "code",
   "execution_count": 3,
   "id": "b53a08ec-f7fa-40e7-a1d3-bf7e3320779a",
   "metadata": {},
   "outputs": [],
   "source": [
    "Loaded_data = LoadedData()"
   ]
  },
  {
   "cell_type": "markdown",
   "id": "d876bd19-65ee-490d-b6fc-57afb94b5f0c",
   "metadata": {},
   "source": [
    "## Verification of loading"
   ]
  },
  {
   "cell_type": "markdown",
   "id": "4d84d9f2-9db1-4cb4-bf52-95cb863a78fb",
   "metadata": {},
   "source": [
    "### Train dataframe"
   ]
  },
  {
   "cell_type": "code",
   "execution_count": 4,
   "id": "57e1017a-ed6e-4c1d-93a1-fef5accad6f5",
   "metadata": {},
   "outputs": [
    {
     "data": {
      "text/html": [
       "<div>\n",
       "<style scoped>\n",
       "    .dataframe tbody tr th:only-of-type {\n",
       "        vertical-align: middle;\n",
       "    }\n",
       "\n",
       "    .dataframe tbody tr th {\n",
       "        vertical-align: top;\n",
       "    }\n",
       "\n",
       "    .dataframe thead th {\n",
       "        text-align: right;\n",
       "    }\n",
       "</style>\n",
       "<table border=\"1\" class=\"dataframe\">\n",
       "  <thead>\n",
       "    <tr style=\"text-align: right;\">\n",
       "      <th></th>\n",
       "      <th>protein_sequence</th>\n",
       "      <th>pH</th>\n",
       "      <th>data_source</th>\n",
       "      <th>tm</th>\n",
       "    </tr>\n",
       "    <tr>\n",
       "      <th>seq_id</th>\n",
       "      <th></th>\n",
       "      <th></th>\n",
       "      <th></th>\n",
       "      <th></th>\n",
       "    </tr>\n",
       "  </thead>\n",
       "  <tbody>\n",
       "    <tr>\n",
       "      <th>0</th>\n",
       "      <td>AAAAKAAALALLGEAPEVVDIWLPAGWRQPFRVFRLERKGDGVLVG...</td>\n",
       "      <td>7.0</td>\n",
       "      <td>doi.org/10.1038/s41592-020-0801-4</td>\n",
       "      <td>75.7</td>\n",
       "    </tr>\n",
       "    <tr>\n",
       "      <th>1</th>\n",
       "      <td>AAADGEPLHNEEERAGAGQVGRSLPQESEEQRTGSRPRRRRDLGSR...</td>\n",
       "      <td>7.0</td>\n",
       "      <td>doi.org/10.1038/s41592-020-0801-4</td>\n",
       "      <td>50.5</td>\n",
       "    </tr>\n",
       "    <tr>\n",
       "      <th>2</th>\n",
       "      <td>AAAFSTPRATSYRILSSAGSGSTRADAPQVRRLHTTRDLLAKDYYA...</td>\n",
       "      <td>7.0</td>\n",
       "      <td>doi.org/10.1038/s41592-020-0801-4</td>\n",
       "      <td>40.5</td>\n",
       "    </tr>\n",
       "    <tr>\n",
       "      <th>3</th>\n",
       "      <td>AAASGLRTAIPAQPLRHLLQPAPRPCLRPFGLLSVRAGSARRSGLL...</td>\n",
       "      <td>7.0</td>\n",
       "      <td>doi.org/10.1038/s41592-020-0801-4</td>\n",
       "      <td>47.2</td>\n",
       "    </tr>\n",
       "    <tr>\n",
       "      <th>4</th>\n",
       "      <td>AAATKSGPRRQSQGASVRTFTPFYFLVEPVDTLSVRGSSVILNCSA...</td>\n",
       "      <td>7.0</td>\n",
       "      <td>doi.org/10.1038/s41592-020-0801-4</td>\n",
       "      <td>49.5</td>\n",
       "    </tr>\n",
       "  </tbody>\n",
       "</table>\n",
       "</div>"
      ],
      "text/plain": [
       "                                         protein_sequence   pH  \\\n",
       "seq_id                                                           \n",
       "0       AAAAKAAALALLGEAPEVVDIWLPAGWRQPFRVFRLERKGDGVLVG...  7.0   \n",
       "1       AAADGEPLHNEEERAGAGQVGRSLPQESEEQRTGSRPRRRRDLGSR...  7.0   \n",
       "2       AAAFSTPRATSYRILSSAGSGSTRADAPQVRRLHTTRDLLAKDYYA...  7.0   \n",
       "3       AAASGLRTAIPAQPLRHLLQPAPRPCLRPFGLLSVRAGSARRSGLL...  7.0   \n",
       "4       AAATKSGPRRQSQGASVRTFTPFYFLVEPVDTLSVRGSSVILNCSA...  7.0   \n",
       "\n",
       "                              data_source    tm  \n",
       "seq_id                                           \n",
       "0       doi.org/10.1038/s41592-020-0801-4  75.7  \n",
       "1       doi.org/10.1038/s41592-020-0801-4  50.5  \n",
       "2       doi.org/10.1038/s41592-020-0801-4  40.5  \n",
       "3       doi.org/10.1038/s41592-020-0801-4  47.2  \n",
       "4       doi.org/10.1038/s41592-020-0801-4  49.5  "
      ]
     },
     "execution_count": 4,
     "metadata": {},
     "output_type": "execute_result"
    }
   ],
   "source": [
    "Loaded_data.train_df.head()"
   ]
  },
  {
   "cell_type": "markdown",
   "id": "b937e1c6-cbf5-4599-9c65-c9a3abc0386b",
   "metadata": {},
   "source": [
    "### Test dataframe"
   ]
  },
  {
   "cell_type": "code",
   "execution_count": 5,
   "id": "140a1ffe-24a7-4047-8135-e85b5ca728d4",
   "metadata": {},
   "outputs": [
    {
     "data": {
      "text/html": [
       "<div>\n",
       "<style scoped>\n",
       "    .dataframe tbody tr th:only-of-type {\n",
       "        vertical-align: middle;\n",
       "    }\n",
       "\n",
       "    .dataframe tbody tr th {\n",
       "        vertical-align: top;\n",
       "    }\n",
       "\n",
       "    .dataframe thead th {\n",
       "        text-align: right;\n",
       "    }\n",
       "</style>\n",
       "<table border=\"1\" class=\"dataframe\">\n",
       "  <thead>\n",
       "    <tr style=\"text-align: right;\">\n",
       "      <th></th>\n",
       "      <th>protein_sequence</th>\n",
       "      <th>pH</th>\n",
       "      <th>data_source</th>\n",
       "    </tr>\n",
       "    <tr>\n",
       "      <th>seq_id</th>\n",
       "      <th></th>\n",
       "      <th></th>\n",
       "      <th></th>\n",
       "    </tr>\n",
       "  </thead>\n",
       "  <tbody>\n",
       "    <tr>\n",
       "      <th>31390</th>\n",
       "      <td>VPVNPEPDATSVENVAEKTGSGDSQSDPIKADLEVKGQSALPFDVD...</td>\n",
       "      <td>8</td>\n",
       "      <td>Novozymes</td>\n",
       "    </tr>\n",
       "    <tr>\n",
       "      <th>31391</th>\n",
       "      <td>VPVNPEPDATSVENVAKKTGSGDSQSDPIKADLEVKGQSALPFDVD...</td>\n",
       "      <td>8</td>\n",
       "      <td>Novozymes</td>\n",
       "    </tr>\n",
       "    <tr>\n",
       "      <th>31392</th>\n",
       "      <td>VPVNPEPDATSVENVAKTGSGDSQSDPIKADLEVKGQSALPFDVDC...</td>\n",
       "      <td>8</td>\n",
       "      <td>Novozymes</td>\n",
       "    </tr>\n",
       "    <tr>\n",
       "      <th>31393</th>\n",
       "      <td>VPVNPEPDATSVENVALCTGSGDSQSDPIKADLEVKGQSALPFDVD...</td>\n",
       "      <td>8</td>\n",
       "      <td>Novozymes</td>\n",
       "    </tr>\n",
       "    <tr>\n",
       "      <th>31394</th>\n",
       "      <td>VPVNPEPDATSVENVALFTGSGDSQSDPIKADLEVKGQSALPFDVD...</td>\n",
       "      <td>8</td>\n",
       "      <td>Novozymes</td>\n",
       "    </tr>\n",
       "  </tbody>\n",
       "</table>\n",
       "</div>"
      ],
      "text/plain": [
       "                                         protein_sequence  pH data_source\n",
       "seq_id                                                                   \n",
       "31390   VPVNPEPDATSVENVAEKTGSGDSQSDPIKADLEVKGQSALPFDVD...   8   Novozymes\n",
       "31391   VPVNPEPDATSVENVAKKTGSGDSQSDPIKADLEVKGQSALPFDVD...   8   Novozymes\n",
       "31392   VPVNPEPDATSVENVAKTGSGDSQSDPIKADLEVKGQSALPFDVDC...   8   Novozymes\n",
       "31393   VPVNPEPDATSVENVALCTGSGDSQSDPIKADLEVKGQSALPFDVD...   8   Novozymes\n",
       "31394   VPVNPEPDATSVENVALFTGSGDSQSDPIKADLEVKGQSALPFDVD...   8   Novozymes"
      ]
     },
     "execution_count": 5,
     "metadata": {},
     "output_type": "execute_result"
    }
   ],
   "source": [
    "Loaded_data.test_df.head()"
   ]
  },
  {
   "cell_type": "markdown",
   "id": "37c903be-c927-4302-b262-64c21b00213f",
   "metadata": {},
   "source": [
    "# **Data cleaning**"
   ]
  },
  {
   "cell_type": "markdown",
   "id": "cc31d744-3e44-46b4-a0a2-979bf49fe935",
   "metadata": {},
   "source": [
    "## Data cleaning class"
   ]
  },
  {
   "cell_type": "code",
   "execution_count": 16,
   "id": "db9bb116-85cd-48b6-9bbd-7c633a5df0be",
   "metadata": {},
   "outputs": [],
   "source": [
    "class CleanedData(LoadedData):\n",
    "    \"\"\"Class for cleaning and storing the cleaned data\"\"\"\n",
    "\n",
    "    @staticmethod\n",
    "    def _remove_empty_rows(df: DataFrame, col_name: str) -> None:\n",
    "        df.drop(df[df[col_name].isna()].index, inplace=True)\n",
    "\n",
    "\n",
    "    def __init__(self, target_column: str = 'tm') -> None:\n",
    "        super(CleanedData, self).__init__()\n",
    "        # Removal of the irrelevant data\n",
    "        for col_name in self.test_df.columns.to_list():\n",
    "            if self.train_df[col_name].isin(self.test_df[col_name].unique()).sum() == 0\\\n",
    "                    and col_name != 'protein_sequence':\n",
    "                if 'cleaned_train_data' not in locals():\n",
    "                    self.cleaned_train_data = self.train_df.drop(col_name, axis=1, )\n",
    "                    self.cleaned_test_data = self.test_df.drop(col_name, axis=1)\n",
    "\n",
    "                else:\n",
    "                    self.cleaned_train_data.drop(col_name, axis=1, inplace=True)\n",
    "                    self.cleaned_test_data.drop(col_name, axis=1, inplace=True)\n",
    "\n",
    "        self._remove_empty_rows(self.cleaned_train_data, target_column)\n",
    "\n",
    "        del self.test_df, self.train_df"
   ]
  },
  {
   "cell_type": "markdown",
   "id": "ffe483ec-ce4d-4fbb-abe9-94210b072fea",
   "metadata": {},
   "source": [
    "## Class initialization"
   ]
  },
  {
   "cell_type": "code",
   "execution_count": 8,
   "id": "fc8c6a13-67d1-4ee7-a468-43b2ddc8a1ec",
   "metadata": {},
   "outputs": [],
   "source": [
    "Cleaned_data = CleanedData()"
   ]
  },
  {
   "cell_type": "markdown",
   "id": "e147a89a-9c96-46a8-9359-818f29fee240",
   "metadata": {},
   "source": [
    "## Verification of loading"
   ]
  },
  {
   "cell_type": "markdown",
   "id": "a44aacd1-b493-463c-8ec7-e66b30de51bb",
   "metadata": {},
   "source": [
    "### Train data"
   ]
  },
  {
   "cell_type": "code",
   "execution_count": 12,
   "id": "bc59166c-05b6-43af-9964-507df2e703f3",
   "metadata": {},
   "outputs": [
    {
     "data": {
      "text/html": [
       "<div>\n",
       "<style scoped>\n",
       "    .dataframe tbody tr th:only-of-type {\n",
       "        vertical-align: middle;\n",
       "    }\n",
       "\n",
       "    .dataframe tbody tr th {\n",
       "        vertical-align: top;\n",
       "    }\n",
       "\n",
       "    .dataframe thead th {\n",
       "        text-align: right;\n",
       "    }\n",
       "</style>\n",
       "<table border=\"1\" class=\"dataframe\">\n",
       "  <thead>\n",
       "    <tr style=\"text-align: right;\">\n",
       "      <th></th>\n",
       "      <th>protein_sequence</th>\n",
       "      <th>pH</th>\n",
       "      <th>tm</th>\n",
       "    </tr>\n",
       "    <tr>\n",
       "      <th>seq_id</th>\n",
       "      <th></th>\n",
       "      <th></th>\n",
       "      <th></th>\n",
       "    </tr>\n",
       "  </thead>\n",
       "  <tbody>\n",
       "    <tr>\n",
       "      <th>0</th>\n",
       "      <td>AAAAKAAALALLGEAPEVVDIWLPAGWRQPFRVFRLERKGDGVLVG...</td>\n",
       "      <td>7.0</td>\n",
       "      <td>75.7</td>\n",
       "    </tr>\n",
       "    <tr>\n",
       "      <th>1</th>\n",
       "      <td>AAADGEPLHNEEERAGAGQVGRSLPQESEEQRTGSRPRRRRDLGSR...</td>\n",
       "      <td>7.0</td>\n",
       "      <td>50.5</td>\n",
       "    </tr>\n",
       "    <tr>\n",
       "      <th>2</th>\n",
       "      <td>AAAFSTPRATSYRILSSAGSGSTRADAPQVRRLHTTRDLLAKDYYA...</td>\n",
       "      <td>7.0</td>\n",
       "      <td>40.5</td>\n",
       "    </tr>\n",
       "    <tr>\n",
       "      <th>3</th>\n",
       "      <td>AAASGLRTAIPAQPLRHLLQPAPRPCLRPFGLLSVRAGSARRSGLL...</td>\n",
       "      <td>7.0</td>\n",
       "      <td>47.2</td>\n",
       "    </tr>\n",
       "    <tr>\n",
       "      <th>4</th>\n",
       "      <td>AAATKSGPRRQSQGASVRTFTPFYFLVEPVDTLSVRGSSVILNCSA...</td>\n",
       "      <td>7.0</td>\n",
       "      <td>49.5</td>\n",
       "    </tr>\n",
       "  </tbody>\n",
       "</table>\n",
       "</div>"
      ],
      "text/plain": [
       "                                         protein_sequence   pH    tm\n",
       "seq_id                                                              \n",
       "0       AAAAKAAALALLGEAPEVVDIWLPAGWRQPFRVFRLERKGDGVLVG...  7.0  75.7\n",
       "1       AAADGEPLHNEEERAGAGQVGRSLPQESEEQRTGSRPRRRRDLGSR...  7.0  50.5\n",
       "2       AAAFSTPRATSYRILSSAGSGSTRADAPQVRRLHTTRDLLAKDYYA...  7.0  40.5\n",
       "3       AAASGLRTAIPAQPLRHLLQPAPRPCLRPFGLLSVRAGSARRSGLL...  7.0  47.2\n",
       "4       AAATKSGPRRQSQGASVRTFTPFYFLVEPVDTLSVRGSSVILNCSA...  7.0  49.5"
      ]
     },
     "execution_count": 12,
     "metadata": {},
     "output_type": "execute_result"
    }
   ],
   "source": [
    "Cleaned_data.cleaned_train_data.head()"
   ]
  },
  {
   "cell_type": "code",
   "execution_count": 13,
   "id": "fce817ba-904d-47ea-a1b6-4315e6f05ce4",
   "metadata": {},
   "outputs": [
    {
     "data": {
      "text/plain": [
       "(28981, 3)"
      ]
     },
     "execution_count": 13,
     "metadata": {},
     "output_type": "execute_result"
    }
   ],
   "source": [
    "Cleaned_data.cleaned_train_data.shape"
   ]
  },
  {
   "cell_type": "markdown",
   "id": "9fc5eaa2-bdc1-4aa4-9de7-02c9e7db52e0",
   "metadata": {},
   "source": [
    "### Test data"
   ]
  },
  {
   "cell_type": "code",
   "execution_count": 14,
   "id": "5045bf6c-d4da-4f89-9b81-7718ffa58457",
   "metadata": {},
   "outputs": [
    {
     "data": {
      "text/html": [
       "<div>\n",
       "<style scoped>\n",
       "    .dataframe tbody tr th:only-of-type {\n",
       "        vertical-align: middle;\n",
       "    }\n",
       "\n",
       "    .dataframe tbody tr th {\n",
       "        vertical-align: top;\n",
       "    }\n",
       "\n",
       "    .dataframe thead th {\n",
       "        text-align: right;\n",
       "    }\n",
       "</style>\n",
       "<table border=\"1\" class=\"dataframe\">\n",
       "  <thead>\n",
       "    <tr style=\"text-align: right;\">\n",
       "      <th></th>\n",
       "      <th>protein_sequence</th>\n",
       "      <th>pH</th>\n",
       "    </tr>\n",
       "    <tr>\n",
       "      <th>seq_id</th>\n",
       "      <th></th>\n",
       "      <th></th>\n",
       "    </tr>\n",
       "  </thead>\n",
       "  <tbody>\n",
       "    <tr>\n",
       "      <th>31390</th>\n",
       "      <td>VPVNPEPDATSVENVAEKTGSGDSQSDPIKADLEVKGQSALPFDVD...</td>\n",
       "      <td>8</td>\n",
       "    </tr>\n",
       "    <tr>\n",
       "      <th>31391</th>\n",
       "      <td>VPVNPEPDATSVENVAKKTGSGDSQSDPIKADLEVKGQSALPFDVD...</td>\n",
       "      <td>8</td>\n",
       "    </tr>\n",
       "    <tr>\n",
       "      <th>31392</th>\n",
       "      <td>VPVNPEPDATSVENVAKTGSGDSQSDPIKADLEVKGQSALPFDVDC...</td>\n",
       "      <td>8</td>\n",
       "    </tr>\n",
       "    <tr>\n",
       "      <th>31393</th>\n",
       "      <td>VPVNPEPDATSVENVALCTGSGDSQSDPIKADLEVKGQSALPFDVD...</td>\n",
       "      <td>8</td>\n",
       "    </tr>\n",
       "    <tr>\n",
       "      <th>31394</th>\n",
       "      <td>VPVNPEPDATSVENVALFTGSGDSQSDPIKADLEVKGQSALPFDVD...</td>\n",
       "      <td>8</td>\n",
       "    </tr>\n",
       "  </tbody>\n",
       "</table>\n",
       "</div>"
      ],
      "text/plain": [
       "                                         protein_sequence  pH\n",
       "seq_id                                                       \n",
       "31390   VPVNPEPDATSVENVAEKTGSGDSQSDPIKADLEVKGQSALPFDVD...   8\n",
       "31391   VPVNPEPDATSVENVAKKTGSGDSQSDPIKADLEVKGQSALPFDVD...   8\n",
       "31392   VPVNPEPDATSVENVAKTGSGDSQSDPIKADLEVKGQSALPFDVDC...   8\n",
       "31393   VPVNPEPDATSVENVALCTGSGDSQSDPIKADLEVKGQSALPFDVD...   8\n",
       "31394   VPVNPEPDATSVENVALFTGSGDSQSDPIKADLEVKGQSALPFDVD...   8"
      ]
     },
     "execution_count": 14,
     "metadata": {},
     "output_type": "execute_result"
    }
   ],
   "source": [
    "Cleaned_data.cleaned_test_data.head()"
   ]
  },
  {
   "cell_type": "code",
   "execution_count": 15,
   "id": "666d9f90-eeb9-437d-8070-4a735114ae87",
   "metadata": {},
   "outputs": [
    {
     "data": {
      "text/plain": [
       "(2413, 2)"
      ]
     },
     "execution_count": 15,
     "metadata": {},
     "output_type": "execute_result"
    }
   ],
   "source": [
    "Cleaned_data.cleaned_test_data.shape"
   ]
  },
  {
   "cell_type": "code",
   "execution_count": null,
   "id": "f0f402e1-4fc6-4b62-a141-e16be1665968",
   "metadata": {},
   "outputs": [],
   "source": []
  }
 ],
 "metadata": {
  "kernelspec": {
   "display_name": "Python 3 (ipykernel)",
   "language": "python",
   "name": "python3"
  },
  "language_info": {
   "codemirror_mode": {
    "name": "ipython",
    "version": 3
   },
   "file_extension": ".py",
   "mimetype": "text/x-python",
   "name": "python",
   "nbconvert_exporter": "python",
   "pygments_lexer": "ipython3",
   "version": "3.10.5"
  },
  "toc-autonumbering": true,
  "toc-showmarkdowntxt": false,
  "toc-showtags": false
 },
 "nbformat": 4,
 "nbformat_minor": 5
}
